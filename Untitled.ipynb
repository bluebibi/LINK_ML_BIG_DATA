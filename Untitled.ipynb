{
 "cells": [
  {
   "cell_type": "code",
   "execution_count": 15,
   "metadata": {
    "collapsed": false
   },
   "outputs": [
    {
     "name": "stdout",
     "output_type": "stream",
     "text": [
      "+--------+-----+\n",
      "|    word|count|\n",
      "+--------+-----+\n",
      "|     rat|    2|\n",
      "|     cat|    2|\n",
      "|elephant|    1|\n",
      "+--------+-----+\n",
      "\n"
     ]
    }
   ],
   "source": [
    "import urllib2\n",
    "import findspark\n",
    "findspark.init()\n",
    "\n",
    "from pyspark import SparkContext, SparkFiles, SQLContext\n",
    "\n",
    "if sc is None:\n",
    "    sc = SparkContext()\n",
    "    sqlContext = SQLContext(sc)\n",
    "    \n",
    "wordsDF = sqlContext.createDataFrame([('cat',), ('elephant',), ('rat',), ('rat',), ('cat', )], ['word'])\n",
    "wordCountsDF = wordsDF.groupBy(\"word\").count()\n",
    "wordCountsDF.show()"
   ]
  },
  {
   "cell_type": "code",
   "execution_count": 1,
   "metadata": {
    "collapsed": false
   },
   "outputs": [
    {
     "name": "stdout",
     "output_type": "stream",
     "text": [
      "+--------+-----+\n",
      "|    word|count|\n",
      "+--------+-----+\n",
      "|     rat|    2|\n",
      "|     cat|    2|\n",
      "|elephant|    1|\n",
      "+--------+-----+\n",
      "\n"
     ]
    }
   ],
   "source": [
    "import urllib2  \n",
    "import findspark    \n",
    "findspark.init()  \n",
    "from pyspark import SparkContext, SparkFiles, SQLContext\n",
    " \n",
    "if not 'sc' in locals():  \n",
    " sc = SparkContext()  \n",
    "\n",
    "if not 'sqlContext' in locals():\n",
    " sqlContext = SQLContext(sc)\n",
    " \n",
    "wordsDF = sqlContext.createDataFrame([('cat',), ('elephant',), ('rat',), ('rat',), ('cat', )], ['word'])   \n",
    "wordCountsDF = wordsDF.groupBy(\"word\").count()   \n",
    "wordCountsDF.show() "
   ]
  },
  {
   "cell_type": "code",
   "execution_count": 16,
   "metadata": {
    "collapsed": false
   },
   "outputs": [],
   "source": [
    "l = ['yuhc@korea.ac.kr', 'wnam@konkuk.ac.kr', 'cjpark@jejunu.ac.kr', 'suhtw@korea.ac.kr', 'tsshon@ajou.ac.kr', 'insik.shin@cs.kaist.ac.kr', 'kiyonglee@sm.ac.kr', 'elee@dongduk.ac.kr', 'janghol@hongik.ac.kr', 'mchoi@cbnu.ac.kr', 'choirinayj@gmail.com', 'khur@ginue.ac.kr', 'nsd0923@gmail.com', 'sjtgood7@gmail.com', 'cryptography1@gmail.com', 'jongsung.k@gmail.com', 'security@ajou.ac.kr', 'hyobeom.ahn@gmail.com', 'kevinlee@korea.ac.kr', 'shine_1991@kdn.com', 'sangsooyeo@gmail.com', 'swchung@korea.ac.kr', 'seung.lee@seoultech.ac.kr', 'wro@yonsei.ac.kr', 'yongjun.park@hongik.ac.kr', 'mjkim@swu.ac.kr', 'khs@nia.or.kr', 'kisik.kong@gmail.com', 'jmgil@cu.ac.kr', 'hero707@gmail.com', 'kchung0825@knou.ac.kr', 'yhhan@kut.ac.kr', 'leehm@sch.ac.kr', 'kibom@nsr.re.kr', 'esryu@gachon.ac.kr', 'jbyun@sejong.ac.kr', 's.youngjoo@gmail.com', 'dykoo@nslab.kaist.ac.kr', 'youngho@sjcu.ac.kr', 'nkh@umlogics.com', 'eskim@hongik.ac.kr', 'jsp@hongik.ac.kr', 'young.yoon@hongik.ac.kr', 'pae@hongik.ac.kr', 'bigrain@sm.ac.kr', 'kimsc@daegu.ac.kr', 'yjkim@swu.ac.kr', 'minkyup@gmail.com', 'mskim@dgist.ac.kr', 'kihoonlee@kw.ac.kr', 'hyosang@yonsei.ac.kr', 'julee@hufs.ac.kr', 'yhkim@kdd.snu.ac.kr', 'jaegil@kaist.ac.kr', 'mlim@konkuk.ac.kr', 'kyuman.jeong@gmail.com', 'hgkim@syu.ac.kr', 'jongwook.kim1004@gmail.com', 'jshim@sookmyung.ac.kr', 'yh.park@sookmyung.ac.kr', 'cykim@sm.ac.kr', 'yujin91@sm.ac.kr', 'yhpark@sm.ac.kr', 'yksuh@kisti.re.kr', 'jhoon@kisti.re.kr', 'kyongha@kisti.re.kr', 'leehw@konkuk.ac.kr', 'yijoo@kmou.ac.kr', 'kimsk@chungbuk.ac.kr ', 'hkwangil@incheon.ac.kr', 'vincent@smu.ac.kr ', 'hkpark@kut.ac.kr', 'sjseok@kyungnam.ac.kr ', 'izeho@seowon.ac.', 'jwkim@yjc.ac.kr', 'wikim@inu.ac.kr ', 'jychun@smit.ac.kr', 'jksuh@smit.ac.kr', 'crypto77@korea.ac.kr', 'jungwony@ajou.ac.kr', 'ynam@sch.ac.kr', 'jyp@keti.re.kr', 'basilia@skku.edu', 'minarho@hanyang.ac.kr', 'kujinkim@knu.ac.kr', 'pjm@kist.re.kr', 'jhyang@smit.ac.kr', 'ngkim@kyonggi.ac.kr', 'slim@hufs.ac.kr', 'eslee@chungbuk.ac.kr', 'slee@mokwon.ac.kr', 'khocha@kisti.re.kr', 'scoh713@gmail.com', 'hjlee@yd.ac.kr', 'aziz@cbnu.ac.kr', 'hikim@jejunu.ac.kr', 'khkim@jejunu.ac.kr ', 'jshyun@jejunu.ac.kr', 'sjlee@jejunu.ac.kr', 'kwak@jejunu.ac.kr', 'rheeyj@jejunu.ac.kr', 'jhlee@jejunu.ac.kr', 'khkim@jejunu.ac.kr', 'jwcho@jejunu.ac.kr', 'leekw@sangji.ac.kr', 'yhkang@bu.ac.kr', 'shpark21@kookmin.ac.kr', 'ahn@uos.ac.kr', 'hakjoo_oh@korea.ac.kr', 'root1004@bu.ac.kr', 'thejblim@gmail.com', 'limhseok@korea.ac.kr', 'jchoo@korea.ac.kr', 'emchoi@kookmin.ac.kr', 'ehwang04@korea.ac.kr', 'jongkook@korea.ac.kr', 'ssbyun@gmail.com', 'swpark@dgmif.re.kr']\n",
    "l2 = ['elee@dongduk.ac.kr', 'jmgil@cu.ac.kr', 'swchung@korea.ac.kr', 'emchoi@kookmin.ac.kr', 'slim@hufs.ac.kr', 'suhtw@korea.ac.kr', 'cryptography1@gmail.com', 'jongsung.k@gmail.com', 'leehm@sch.ac.kr', 'kchung0825@knou.ac.kr', 'sangsooyeo@gmail.com', 'root1004@bu.ac.kr', 'tsshon@ajou.ac.kr', 'yuhc@korea.ac.kr', 'yhpark@sm.ac.kr', 'kisik.kong@gmail.com', 'eskim@hongik.ac.kr', 'mlim@konkuk.ac.kr', 'limhseok@korea.ac.kr', 'scoh713@gmail.com', 'jungwony@ajou.ac.kr', 'jwkim@yjc.ac.kr', 'janghol@hongik.ac.kr', 's.youngjoo@gmail.com', 'ssbyun@gmail.com', 'mchoi@cbnu.ac.kr', 'eslee@chungbuk.ac.kr', 'thejblim@gmail.com', 'yhkang@bu.ac.kr', 'khur@ginue.ac.kr', 'ahn@uos.ac.kr', 'bigrain@sm.ac.kr', 'shpark21@kookmin.ac.kr', 'yujin91@sm.ac.kr', 'security@ajou.ac.kr', 'kibom@nsr.re.kr', 'jsp@hongik.ac.kr', 'jongkook@korea.ac.kr', 'aziz@cbnu.ac.kr', 'sjseok@kyungnam.ac.kr', 'wro@yonsei.ac.kr', 'kihoonlee@kw.ac.kr', 'khkim@jejunu.ac.kr', 'ehwang04@korea.ac.kr', 'hgkim@syu.ac.kr', 'hyosang@yonsei.ac.kr', 'jychun@smit.ac.kr', 'jchoo@korea.ac.kr', 'yjkim@swu.ac.kr', 'swpark@dgmif.re.kr', 'jshyun@jejunu.ac.kr', 'shine_1991@kdn.com', 'yksuh@kisti.re.kr']\n",
    "l3 = []\n",
    "for name in l:\n",
    "    if (name not in l2):\n",
    "        l3.append(name)"
   ]
  },
  {
   "cell_type": "code",
   "execution_count": 17,
   "metadata": {
    "collapsed": false
   },
   "outputs": [
    {
     "data": {
      "text/plain": [
       "['wnam@konkuk.ac.kr',\n",
       " 'cjpark@jejunu.ac.kr',\n",
       " 'insik.shin@cs.kaist.ac.kr',\n",
       " 'kiyonglee@sm.ac.kr',\n",
       " 'choirinayj@gmail.com',\n",
       " 'nsd0923@gmail.com',\n",
       " 'sjtgood7@gmail.com',\n",
       " 'hyobeom.ahn@gmail.com',\n",
       " 'kevinlee@korea.ac.kr',\n",
       " 'seung.lee@seoultech.ac.kr',\n",
       " 'yongjun.park@hongik.ac.kr',\n",
       " 'mjkim@swu.ac.kr',\n",
       " 'khs@nia.or.kr',\n",
       " 'hero707@gmail.com',\n",
       " 'yhhan@kut.ac.kr',\n",
       " 'esryu@gachon.ac.kr',\n",
       " 'jbyun@sejong.ac.kr',\n",
       " 'dykoo@nslab.kaist.ac.kr',\n",
       " 'youngho@sjcu.ac.kr',\n",
       " 'nkh@umlogics.com',\n",
       " 'young.yoon@hongik.ac.kr',\n",
       " 'pae@hongik.ac.kr',\n",
       " 'kimsc@daegu.ac.kr',\n",
       " 'minkyup@gmail.com',\n",
       " 'mskim@dgist.ac.kr',\n",
       " 'julee@hufs.ac.kr',\n",
       " 'yhkim@kdd.snu.ac.kr',\n",
       " 'jaegil@kaist.ac.kr',\n",
       " 'kyuman.jeong@gmail.com',\n",
       " 'jongwook.kim1004@gmail.com',\n",
       " 'jshim@sookmyung.ac.kr',\n",
       " 'yh.park@sookmyung.ac.kr',\n",
       " 'cykim@sm.ac.kr',\n",
       " 'jhoon@kisti.re.kr',\n",
       " 'kyongha@kisti.re.kr',\n",
       " 'leehw@konkuk.ac.kr',\n",
       " 'yijoo@kmou.ac.kr',\n",
       " 'kimsk@chungbuk.ac.kr ',\n",
       " 'hkwangil@incheon.ac.kr',\n",
       " 'vincent@smu.ac.kr ',\n",
       " 'hkpark@kut.ac.kr',\n",
       " 'sjseok@kyungnam.ac.kr ',\n",
       " 'izeho@seowon.ac.',\n",
       " 'wikim@inu.ac.kr ',\n",
       " 'jksuh@smit.ac.kr',\n",
       " 'crypto77@korea.ac.kr',\n",
       " 'ynam@sch.ac.kr',\n",
       " 'jyp@keti.re.kr',\n",
       " 'basilia@skku.edu',\n",
       " 'minarho@hanyang.ac.kr',\n",
       " 'kujinkim@knu.ac.kr',\n",
       " 'pjm@kist.re.kr',\n",
       " 'jhyang@smit.ac.kr',\n",
       " 'ngkim@kyonggi.ac.kr',\n",
       " 'slee@mokwon.ac.kr',\n",
       " 'khocha@kisti.re.kr',\n",
       " 'hjlee@yd.ac.kr',\n",
       " 'hikim@jejunu.ac.kr',\n",
       " 'khkim@jejunu.ac.kr ',\n",
       " 'sjlee@jejunu.ac.kr',\n",
       " 'kwak@jejunu.ac.kr',\n",
       " 'rheeyj@jejunu.ac.kr',\n",
       " 'jhlee@jejunu.ac.kr',\n",
       " 'jwcho@jejunu.ac.kr',\n",
       " 'leekw@sangji.ac.kr',\n",
       " 'hakjoo_oh@korea.ac.kr']"
      ]
     },
     "execution_count": 17,
     "metadata": {},
     "output_type": "execute_result"
    }
   ],
   "source": [
    "l3"
   ]
  },
  {
   "cell_type": "code",
   "execution_count": null,
   "metadata": {
    "collapsed": true
   },
   "outputs": [],
   "source": []
  }
 ],
 "metadata": {
  "anaconda-cloud": {},
  "kernelspec": {
   "display_name": "Python [Root]",
   "language": "python",
   "name": "Python [Root]"
  },
  "language_info": {
   "codemirror_mode": {
    "name": "ipython",
    "version": 2
   },
   "file_extension": ".py",
   "mimetype": "text/x-python",
   "name": "python",
   "nbconvert_exporter": "python",
   "pygments_lexer": "ipython2",
   "version": "2.7.12"
  }
 },
 "nbformat": 4,
 "nbformat_minor": 0
}
