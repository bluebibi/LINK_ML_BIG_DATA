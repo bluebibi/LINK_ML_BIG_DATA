{
 "cells": [
  {
   "cell_type": "markdown",
   "metadata": {
    "slideshow": {
     "slide_type": "-"
    }
   },
   "source": [
    "# Node Centrality in SAN"
   ]
  },
  {
   "cell_type": "markdown",
   "metadata": {},
   "source": [
    "### - Degree Centrality"
   ]
  },
  {
   "cell_type": "code",
   "execution_count": 2,
   "metadata": {
    "collapsed": false
   },
   "outputs": [
    {
     "data": {
      "image/png": "[encoded data removed]",
      "text/plain": [
       "<matplotlib.figure.Figure at 0x1117cadd0>"
      ]
     },
     "metadata": {},
     "output_type": "display_data"
    }
   ],
   "source": [
    "import networkx as nx\n",
    "import matplotlib.pyplot as plt\n",
    "%matplotlib inline\n",
    "\n",
    "g = nx.Graph()\n",
    "g.add_edge(1,2)\n",
    "g.add_edge(1,3)\n",
    "g.add_edge(1,4)\n",
    "g.add_edge(2,3)\n",
    "g.add_edge(3,4)\n",
    "g.add_edge(4,5)\n",
    "g.add_edge(4,6)\n",
    "g.add_edge(5,6)\n",
    "g.add_edge(5,7)\n",
    "g.add_edge(5,8)\n",
    "g.add_edge(6,7)\n",
    "g.add_edge(6,8)\n",
    "g.add_edge(7,8)\n",
    "g.add_edge(7,9)\n",
    "nx.draw(g, node_size=500, with_labels=True, font_size=16)\n",
    "plt.show()"
   ]
  },
  {
   "cell_type": "code",
   "execution_count": 3,
   "metadata": {
    "collapsed": false
   },
   "outputs": [],
   "source": [
    "degree_centrality = nx.degree_centrality(g)"
   ]
  },
  {
   "cell_type": "code",
   "execution_count": 4,
   "metadata": {
    "collapsed": false
   },
   "outputs": [
    {
     "data": {
      "text/plain": [
       "{1: 0.375,\n",
       " 2: 0.25,\n",
       " 3: 0.375,\n",
       " 4: 0.5,\n",
       " 5: 0.5,\n",
       " 6: 0.5,\n",
       " 7: 0.5,\n",
       " 8: 0.375,\n",
       " 9: 0.125}"
      ]
     },
     "execution_count": 4,
     "metadata": {},
     "output_type": "execute_result"
    }
   ],
   "source": [
    "degree_centrality "
   ]
  },
  {
   "cell_type": "code",
   "execution_count": 5,
   "metadata": {
    "collapsed": false
   },
   "outputs": [
    {
     "data": {
      "text/plain": [
       "dict"
      ]
     },
     "execution_count": 5,
     "metadata": {},
     "output_type": "execute_result"
    }
   ],
   "source": [
    "type(degree_centrality)"
   ]
  },
  {
   "cell_type": "code",
   "execution_count": 6,
   "metadata": {
    "collapsed": false
   },
   "outputs": [
    {
     "name": "stdout",
     "output_type": "stream",
     "text": [
      "[(1, 0.375), (2, 0.25), (3, 0.375), (4, 0.5), (5, 0.5), (6, 0.5), (7, 0.5), (8, 0.375), (9, 0.125)]\n"
     ]
    }
   ],
   "source": [
    "print degree_centrality.items()"
   ]
  },
  {
   "cell_type": "code",
   "execution_count": 7,
   "metadata": {
    "collapsed": true
   },
   "outputs": [],
   "source": [
    "import operator\n",
    "\n",
    "def sort_map(map):\n",
    "    sortedList = map.items()\n",
    "    sortedList.sort(key=operator.itemgetter(1), reverse=True)\n",
    "    return sortedList\n"
   ]
  },
  {
   "cell_type": "code",
   "execution_count": 8,
   "metadata": {
    "collapsed": false
   },
   "outputs": [],
   "source": [
    "sorted_degree_centrality = sort_map(degree_centrality)"
   ]
  },
  {
   "cell_type": "code",
   "execution_count": 9,
   "metadata": {
    "collapsed": false
   },
   "outputs": [
    {
     "data": {
      "text/plain": [
       "[(4, 0.5),\n",
       " (5, 0.5),\n",
       " (6, 0.5),\n",
       " (7, 0.5),\n",
       " (1, 0.375),\n",
       " (3, 0.375),\n",
       " (8, 0.375),\n",
       " (2, 0.25),\n",
       " (9, 0.125)]"
      ]
     },
     "execution_count": 9,
     "metadata": {},
     "output_type": "execute_result"
    }
   ],
   "source": [
    "sorted_degree_centrality"
   ]
  },
  {
   "cell_type": "markdown",
   "metadata": {},
   "source": [
    "### - Closeness  Centrality"
   ]
  },
  {
   "cell_type": "code",
   "execution_count": 10,
   "metadata": {
    "collapsed": true
   },
   "outputs": [],
   "source": [
    "closeness_centrality = nx.closeness_centrality(g)"
   ]
  },
  {
   "cell_type": "code",
   "execution_count": 11,
   "metadata": {
    "collapsed": false
   },
   "outputs": [
    {
     "data": {
      "text/plain": [
       "{1: 0.47058823529411764,\n",
       " 2: 0.34782608695652173,\n",
       " 3: 0.47058823529411764,\n",
       " 4: 0.6153846153846154,\n",
       " 5: 0.6153846153846154,\n",
       " 6: 0.6153846153846154,\n",
       " 7: 0.5,\n",
       " 8: 0.47058823529411764,\n",
       " 9: 0.34782608695652173}"
      ]
     },
     "execution_count": 11,
     "metadata": {},
     "output_type": "execute_result"
    }
   ],
   "source": [
    "closeness_centrality"
   ]
  },
  {
   "cell_type": "code",
   "execution_count": 12,
   "metadata": {
    "collapsed": true
   },
   "outputs": [],
   "source": [
    "sorted_closeness_centrality = sort_map(closeness_centrality)"
   ]
  },
  {
   "cell_type": "code",
   "execution_count": 13,
   "metadata": {
    "collapsed": false
   },
   "outputs": [
    {
     "data": {
      "text/plain": [
       "[(4, 0.6153846153846154),\n",
       " (5, 0.6153846153846154),\n",
       " (6, 0.6153846153846154),\n",
       " (7, 0.5),\n",
       " (1, 0.47058823529411764),\n",
       " (3, 0.47058823529411764),\n",
       " (8, 0.47058823529411764),\n",
       " (2, 0.34782608695652173),\n",
       " (9, 0.34782608695652173)]"
      ]
     },
     "execution_count": 13,
     "metadata": {},
     "output_type": "execute_result"
    }
   ],
   "source": [
    "sorted_closeness_centrality "
   ]
  },
  {
   "cell_type": "markdown",
   "metadata": {},
   "source": [
    "### - Betweenness  Centrality"
   ]
  },
  {
   "cell_type": "code",
   "execution_count": 14,
   "metadata": {
    "collapsed": true
   },
   "outputs": [],
   "source": [
    "bet_centrality = nx.betweenness_centrality(g)"
   ]
  },
  {
   "cell_type": "code",
   "execution_count": 15,
   "metadata": {
    "collapsed": false
   },
   "outputs": [
    {
     "data": {
      "text/plain": [
       "{1: 0.10714285714285714,\n",
       " 2: 0.0,\n",
       " 3: 0.10714285714285714,\n",
       " 4: 0.5357142857142857,\n",
       " 5: 0.21428571428571427,\n",
       " 6: 0.21428571428571427,\n",
       " 7: 0.25,\n",
       " 8: 0.0,\n",
       " 9: 0.0}"
      ]
     },
     "execution_count": 15,
     "metadata": {},
     "output_type": "execute_result"
    }
   ],
   "source": [
    "bet_centrality"
   ]
  },
  {
   "cell_type": "code",
   "execution_count": 16,
   "metadata": {
    "collapsed": true
   },
   "outputs": [],
   "source": [
    "sorted_bet_centrality =sort_map(bet_centrality)"
   ]
  },
  {
   "cell_type": "code",
   "execution_count": 17,
   "metadata": {
    "collapsed": false
   },
   "outputs": [
    {
     "data": {
      "text/plain": [
       "[(4, 0.5357142857142857),\n",
       " (7, 0.25),\n",
       " (5, 0.21428571428571427),\n",
       " (6, 0.21428571428571427),\n",
       " (1, 0.10714285714285714),\n",
       " (3, 0.10714285714285714),\n",
       " (2, 0.0),\n",
       " (8, 0.0),\n",
       " (9, 0.0)]"
      ]
     },
     "execution_count": 17,
     "metadata": {},
     "output_type": "execute_result"
    }
   ],
   "source": [
    "sorted_bet_centrality"
   ]
  },
  {
   "cell_type": "markdown",
   "metadata": {},
   "source": [
    "### - Eigenvector Centrality"
   ]
  },
  {
   "cell_type": "code",
   "execution_count": 18,
   "metadata": {
    "collapsed": false
   },
   "outputs": [],
   "source": [
    "eigenvector_centrality = nx.eigenvector_centrality(g)"
   ]
  },
  {
   "cell_type": "code",
   "execution_count": 19,
   "metadata": {
    "collapsed": false
   },
   "outputs": [
    {
     "data": {
      "text/plain": [
       "{1: 0.19575179821589203,\n",
       " 2: 0.11168619729756277,\n",
       " 3: 0.19575179821589203,\n",
       " 4: 0.3787497778502688,\n",
       " 5: 0.4680845766467968,\n",
       " 6: 0.4680845766467968,\n",
       " 7: 0.4099777873648636,\n",
       " 8: 0.3840189757284675,\n",
       " 9: 0.11695539517576153}"
      ]
     },
     "execution_count": 19,
     "metadata": {},
     "output_type": "execute_result"
    }
   ],
   "source": [
    "eigenvector_centrality"
   ]
  },
  {
   "cell_type": "code",
   "execution_count": 20,
   "metadata": {
    "collapsed": true
   },
   "outputs": [],
   "source": [
    "sorted_eigenvector_centrality= sort_map(eigenvector_centrality)\n"
   ]
  },
  {
   "cell_type": "code",
   "execution_count": 21,
   "metadata": {
    "collapsed": false
   },
   "outputs": [
    {
     "data": {
      "text/plain": [
       "[(5, 0.4680845766467968),\n",
       " (6, 0.4680845766467968),\n",
       " (7, 0.4099777873648636),\n",
       " (8, 0.3840189757284675),\n",
       " (4, 0.3787497778502688),\n",
       " (1, 0.19575179821589203),\n",
       " (3, 0.19575179821589203),\n",
       " (9, 0.11695539517576153),\n",
       " (2, 0.11168619729756277)]"
      ]
     },
     "execution_count": 21,
     "metadata": {},
     "output_type": "execute_result"
    }
   ],
   "source": [
    "sorted_eigenvector_centrality "
   ]
  },
  {
   "cell_type": "markdown",
   "metadata": {},
   "source": [
    "### - Build a table with four centralities \n"
   ]
  },
  {
   "cell_type": "code",
   "execution_count": 22,
   "metadata": {
    "collapsed": true
   },
   "outputs": [],
   "source": [
    "rounded_degree_centrality = {k: round(v, 3) for k, v in degree_centrality.items()}\n"
   ]
  },
  {
   "cell_type": "code",
   "execution_count": 23,
   "metadata": {
    "collapsed": true
   },
   "outputs": [],
   "source": [
    "rounded_closeness_centrality = {k: round(v, 3) for k, v in closeness_centrality.items()}\n"
   ]
  },
  {
   "cell_type": "code",
   "execution_count": 24,
   "metadata": {
    "collapsed": true
   },
   "outputs": [],
   "source": [
    "rounded_bet_centrality = {k: round(v, 3) for k, v in bet_centrality.items()}\n"
   ]
  },
  {
   "cell_type": "code",
   "execution_count": 25,
   "metadata": {
    "collapsed": true
   },
   "outputs": [],
   "source": [
    "rounded_eigenvector_centrality = {k: round(v, 3) for k, v in eigenvector_centrality.items()}\n"
   ]
  },
  {
   "cell_type": "code",
   "execution_count": 26,
   "metadata": {
    "collapsed": true
   },
   "outputs": [],
   "source": [
    "table = [[node, rounded_degree_centrality[node], \n",
    "          rounded_closeness_centrality[node], \n",
    "          rounded_bet_centrality[node], \n",
    "          rounded_eigenvector_centrality[node]] for node in g.nodes()]\n"
   ]
  },
  {
   "cell_type": "code",
   "execution_count": 27,
   "metadata": {
    "collapsed": false
   },
   "outputs": [
    {
     "data": {
      "text/plain": [
       "[[1, 0.375, 0.471, 0.107, 0.196],\n",
       " [2, 0.25, 0.348, 0.0, 0.112],\n",
       " [3, 0.375, 0.471, 0.107, 0.196],\n",
       " [4, 0.5, 0.615, 0.536, 0.379],\n",
       " [5, 0.5, 0.615, 0.214, 0.468],\n",
       " [6, 0.5, 0.615, 0.214, 0.468],\n",
       " [7, 0.5, 0.5, 0.25, 0.41],\n",
       " [8, 0.375, 0.471, 0.0, 0.384],\n",
       " [9, 0.125, 0.348, 0.0, 0.117]]"
      ]
     },
     "execution_count": 27,
     "metadata": {},
     "output_type": "execute_result"
    }
   ],
   "source": [
    "table"
   ]
  }
 ],
 "metadata": {
  "kernelspec": {
   "display_name": "Python 2",
   "language": "python",
   "name": "python2"
  },
  "language_info": {
   "codemirror_mode": {
    "name": "ipython",
    "version": 2
   },
   "file_extension": ".py",
   "mimetype": "text/x-python",
   "name": "python",
   "nbconvert_exporter": "python",
   "pygments_lexer": "ipython2",
   "version": "2.7.6"
  }
 },
 "nbformat": 4,
 "nbformat_minor": 0
}
