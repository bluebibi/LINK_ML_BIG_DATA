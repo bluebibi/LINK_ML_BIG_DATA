{
 "cells": [
  {
   "cell_type": "markdown",
   "metadata": {
    "slideshow": {
     "slide_type": "-"
    }
   },
   "source": [
    "# 1. Python NetworkX"
   ]
  },
  {
   "cell_type": "markdown",
   "metadata": {},
   "source": [
    "- http://networkx.lanl.gov\n",
    "- It is a Python language software package for the creation, manipulation, and study of the structure, dynamics, and functions of complex networks."
   ]
  },
  {
   "cell_type": "markdown",
   "metadata": {},
   "source": [
    "## 1) networkx 모듈 설치 및 테스트 코드"
   ]
  },
  {
   "cell_type": "code",
   "execution_count": 80,
   "metadata": {
    "collapsed": false,
    "slideshow": {
     "slide_type": "slide"
    }
   },
   "outputs": [
    {
     "data": {
      "image/png": "[encoded data removed]",
      "text/plain": [
       "<matplotlib.figure.Figure at 0x10e025690>"
      ]
     },
     "metadata": {},
     "output_type": "display_data"
    }
   ],
   "source": [
    "import networkx as nx\n",
    "import matplotlib.pyplot as plt\n",
    "%matplotlib inline\n",
    "\n",
    "g = nx.Graph()\n",
    "g.add_edge('a','b')\n",
    "nx.draw(g, node_size=1000, with_labels=True, font_size=16)\n",
    "plt.show()"
   ]
  },
  {
   "cell_type": "markdown",
   "metadata": {},
   "source": [
    "## 2) Simple Graph Analysis"
   ]
  },
  {
   "cell_type": "code",
   "execution_count": 81,
   "metadata": {
    "collapsed": false
   },
   "outputs": [
    {
     "data": {
      "image/png": "[encoded data removed]",
      "text/plain": [
       "<matplotlib.figure.Figure at 0x10e287950>"
      ]
     },
     "metadata": {},
     "output_type": "display_data"
    }
   ],
   "source": [
    "g = nx.Graph()\n",
    "g.add_edge(1,2)\n",
    "g.add_edge(1,3)\n",
    "g.add_edge(1,4)\n",
    "g.add_edge(2,3)\n",
    "g.add_edge(3,4)\n",
    "g.add_edge(4,5)\n",
    "g.add_edge(4,6)\n",
    "g.add_edge(5,6)\n",
    "g.add_edge(5,7)\n",
    "g.add_edge(5,8)\n",
    "g.add_edge(6,7)\n",
    "g.add_edge(6,8)\n",
    "g.add_edge(7,8)\n",
    "g.add_edge(7,9)\n",
    "nx.draw(g, node_size=500, with_labels=True, font_size=16)\n",
    "plt.show()\n",
    "# plt.savefig(\"figure1.1.png\")"
   ]
  },
  {
   "cell_type": "markdown",
   "metadata": {},
   "source": [
    "### - Graph Attributes"
   ]
  },
  {
   "cell_type": "code",
   "execution_count": 82,
   "metadata": {
    "collapsed": false
   },
   "outputs": [
    {
     "data": {
      "text/plain": [
       "{}"
      ]
     },
     "execution_count": 82,
     "metadata": {},
     "output_type": "execute_result"
    }
   ],
   "source": [
    "g.graph"
   ]
  },
  {
   "cell_type": "code",
   "execution_count": 83,
   "metadata": {
    "collapsed": true
   },
   "outputs": [],
   "source": [
    "g.graph['caption']='Figure 1. Simple Social Graph' \n",
    "g.graph['number of nodes']=9"
   ]
  },
  {
   "cell_type": "code",
   "execution_count": 84,
   "metadata": {
    "collapsed": false
   },
   "outputs": [
    {
     "data": {
      "text/plain": [
       "{'caption': 'Figure 1. Simple Social Graph', 'number of nodes': 9}"
      ]
     },
     "execution_count": 84,
     "metadata": {},
     "output_type": "execute_result"
    }
   ],
   "source": [
    "g.graph"
   ]
  },
  {
   "cell_type": "markdown",
   "metadata": {},
   "source": [
    "### - Getting Basic Information of Graph"
   ]
  },
  {
   "cell_type": "markdown",
   "metadata": {},
   "source": [
    "- multigraph\n",
    "  - a graph permitted to have multiple edges that have the same end nodes, thus two vertices may be connected by more than one edge."
   ]
  },
  {
   "cell_type": "code",
   "execution_count": 85,
   "metadata": {
    "collapsed": false
   },
   "outputs": [
    {
     "name": "stdout",
     "output_type": "stream",
     "text": [
      "g.number_of_edges(): 14\n",
      "g.size(): 14\n",
      "g.number_of_nodes(): 9\n",
      "len(g): 9\n",
      "g.is_directed(): False\n",
      "g.is_multigraph(): False\n",
      "g.has_node(1): True\n",
      "g.has_node(10): False\n",
      "g.has_edge(4,5): True\n",
      "g.has_edge(4,8): False\n",
      "g.nodes(): [1, 2, 3, 4, 5, 6, 7, 8, 9]\n",
      "g.edges(): [(1, 2), (1, 3), (1, 4), (2, 3), (3, 4), (4, 5), (4, 6), (5, 8), (5, 6), (5, 7), (6, 8), (6, 7), (7, 8), (7, 9)]\n"
     ]
    }
   ],
   "source": [
    "print \"g.number_of_edges():\", g.number_of_edges() \n",
    "print \"g.size():\", g.size()\n",
    "print \"g.number_of_nodes():\", g.number_of_nodes()\n",
    "print \"len(g):\", len(g)\n",
    "print \"g.is_directed():\", g.is_directed()\n",
    "print \"g.is_multigraph():\", g.is_multigraph()\n",
    "print \"g.has_node(1):\", g.has_node(1)\n",
    "print \"g.has_node(10):\", g.has_node(10)\n",
    "print \"g.has_edge(4,5):\", g.has_edge(4,5)\n",
    "print \"g.has_edge(4,8):\", g.has_edge(4,8)\n",
    "print \"g.nodes():\", g.nodes()\n",
    "print \"g.edges():\", g.edges()"
   ]
  },
  {
   "cell_type": "code",
   "execution_count": 86,
   "metadata": {
    "collapsed": false
   },
   "outputs": [
    {
     "data": {
      "text/plain": [
       "[[2, 3, 4],\n",
       " [1, 3],\n",
       " [1, 2, 4],\n",
       " [1, 3, 5, 6],\n",
       " [8, 4, 6, 7],\n",
       " [8, 4, 5, 7],\n",
       " [8, 9, 5, 6],\n",
       " [5, 6, 7],\n",
       " [7]]"
      ]
     },
     "execution_count": 86,
     "metadata": {},
     "output_type": "execute_result"
    }
   ],
   "source": [
    "g.adjacency_list()"
   ]
  },
  {
   "cell_type": "code",
   "execution_count": 87,
   "metadata": {
    "collapsed": false
   },
   "outputs": [
    {
     "data": {
      "text/plain": [
       "[2, 3, 4]"
      ]
     },
     "execution_count": 87,
     "metadata": {},
     "output_type": "execute_result"
    }
   ],
   "source": [
    "g.neighbors(1)"
   ]
  },
  {
   "cell_type": "code",
   "execution_count": 88,
   "metadata": {
    "collapsed": false
   },
   "outputs": [
    {
     "data": {
      "text/plain": [
       "{1: [2, 3, 4],\n",
       " 2: [1, 3],\n",
       " 3: [1, 2, 4],\n",
       " 4: [1, 3, 5, 6],\n",
       " 5: [8, 4, 6, 7],\n",
       " 6: [8, 4, 5, 7],\n",
       " 7: [8, 9, 5, 6],\n",
       " 8: [5, 6, 7],\n",
       " 9: [7]}"
      ]
     },
     "execution_count": 88,
     "metadata": {},
     "output_type": "execute_result"
    }
   ],
   "source": [
    "dict((x, g.neighbors(x)) for x in g.nodes())"
   ]
  },
  {
   "cell_type": "markdown",
   "metadata": {},
   "source": [
    "### - Node Attributes"
   ]
  },
  {
   "cell_type": "code",
   "execution_count": 89,
   "metadata": {
    "collapsed": false
   },
   "outputs": [
    {
     "data": {
      "text/plain": [
       "[1, 2, 3, 4, 5, 6, 7, 8, 9, 10]"
      ]
     },
     "execution_count": 89,
     "metadata": {},
     "output_type": "execute_result"
    }
   ],
   "source": [
    "g.add_node(10, time='5pm')\n",
    "g.nodes()"
   ]
  },
  {
   "cell_type": "code",
   "execution_count": 90,
   "metadata": {
    "collapsed": false
   },
   "outputs": [
    {
     "name": "stdout",
     "output_type": "stream",
     "text": [
      "{}\n",
      "{'time': '5pm'}\n"
     ]
    }
   ],
   "source": [
    "print g.node[2]\n",
    "print g.node[10]"
   ]
  },
  {
   "cell_type": "code",
   "execution_count": 91,
   "metadata": {
    "collapsed": false
   },
   "outputs": [
    {
     "data": {
      "text/plain": [
       "[1, 2, 3, 4, 5, 6, 7, 8, 9, 10, 11, 12, 13]"
      ]
     },
     "execution_count": 91,
     "metadata": {},
     "output_type": "execute_result"
    }
   ],
   "source": [
    "g.add_nodes_from([11, 12, 13], time='2pm')\n",
    "g.nodes()"
   ]
  },
  {
   "cell_type": "code",
   "execution_count": 92,
   "metadata": {
    "collapsed": false
   },
   "outputs": [
    {
     "data": {
      "text/plain": [
       "[(1, {}),\n",
       " (2, {}),\n",
       " (3, {}),\n",
       " (4, {}),\n",
       " (5, {}),\n",
       " (6, {}),\n",
       " (7, {}),\n",
       " (8, {}),\n",
       " (9, {}),\n",
       " (10, {'time': '5pm'}),\n",
       " (11, {'time': '2pm'}),\n",
       " (12, {'time': '2pm'}),\n",
       " (13, {'time': '2pm'})]"
      ]
     },
     "execution_count": 92,
     "metadata": {},
     "output_type": "execute_result"
    }
   ],
   "source": [
    "g.nodes(data=True)"
   ]
  },
  {
   "cell_type": "markdown",
   "metadata": {},
   "source": [
    "### - Edge Attributes"
   ]
  },
  {
   "cell_type": "code",
   "execution_count": 93,
   "metadata": {
    "collapsed": false
   },
   "outputs": [
    {
     "data": {
      "text/plain": [
       "[(1, 2),\n",
       " (1, 3),\n",
       " (1, 4),\n",
       " (2, 3),\n",
       " (2, 9),\n",
       " (3, 4),\n",
       " (4, 5),\n",
       " (4, 6),\n",
       " (5, 8),\n",
       " (5, 6),\n",
       " (5, 7),\n",
       " (6, 8),\n",
       " (6, 7),\n",
       " (7, 8),\n",
       " (7, 9),\n",
       " (40, 41),\n",
       " (20, 21),\n",
       " (30, 31)]"
      ]
     },
     "execution_count": 93,
     "metadata": {},
     "output_type": "execute_result"
    }
   ],
   "source": [
    "g.add_edge(2, 9, weight=4.7)\n",
    "g.add_edge(20, 21, weight=10.0)\n",
    "g.add_edges_from([(3, 4),(4, 5)], color='red')\n",
    "g.add_edges_from([(30, 31, {'color':'blue'}), (40, 41, {'weight':8})]) \n",
    "\n",
    "g.edges()"
   ]
  },
  {
   "cell_type": "code",
   "execution_count": 94,
   "metadata": {
    "collapsed": false
   },
   "outputs": [
    {
     "data": {
      "text/plain": [
       "[(1, 2, {}),\n",
       " (1, 3, {}),\n",
       " (1, 4, {}),\n",
       " (2, 3, {}),\n",
       " (2, 9, {'weight': 4.7}),\n",
       " (3, 4, {'color': 'red'}),\n",
       " (4, 5, {'color': 'red'}),\n",
       " (4, 6, {}),\n",
       " (5, 8, {}),\n",
       " (5, 6, {}),\n",
       " (5, 7, {}),\n",
       " (6, 8, {}),\n",
       " (6, 7, {}),\n",
       " (7, 8, {}),\n",
       " (7, 9, {}),\n",
       " (40, 41, {'weight': 8}),\n",
       " (20, 21, {'weight': 10.0}),\n",
       " (30, 31, {'color': 'blue'})]"
      ]
     },
     "execution_count": 94,
     "metadata": {},
     "output_type": "execute_result"
    }
   ],
   "source": [
    "g.edges(data=True)"
   ]
  },
  {
   "cell_type": "code",
   "execution_count": 95,
   "metadata": {
    "collapsed": false
   },
   "outputs": [
    {
     "data": {
      "text/plain": [
       "{'weight': 4.7}"
      ]
     },
     "execution_count": 95,
     "metadata": {},
     "output_type": "execute_result"
    }
   ],
   "source": [
    "g.edge[2][9]"
   ]
  },
  {
   "cell_type": "code",
   "execution_count": 96,
   "metadata": {
    "collapsed": false
   },
   "outputs": [
    {
     "data": {
      "text/plain": [
       "4.7"
      ]
     },
     "execution_count": 96,
     "metadata": {},
     "output_type": "execute_result"
    }
   ],
   "source": [
    "g.edge[2][9]['weight']"
   ]
  },
  {
   "cell_type": "markdown",
   "metadata": {},
   "source": [
    "### - Getting Degree Information"
   ]
  },
  {
   "cell_type": "code",
   "execution_count": 97,
   "metadata": {
    "collapsed": false
   },
   "outputs": [
    {
     "data": {
      "image/png": "[encoded data removed]",
      "text/plain": [
       "<matplotlib.figure.Figure at 0x10df149d0>"
      ]
     },
     "metadata": {},
     "output_type": "display_data"
    }
   ],
   "source": [
    "g = nx.Graph()\n",
    "g.add_edges_from([(1,2), (1,3), (1,4), (2,3), (3,4), (4,5), (4,6), (5,6), (5,7), (5,8), (6,7), (6,8), (7,8), (7,9)])\n",
    "nx.draw(g, node_size=500, with_labels=True, font_size=16)\n",
    "plt.show()"
   ]
  },
  {
   "cell_type": "code",
   "execution_count": 98,
   "metadata": {
    "collapsed": false
   },
   "outputs": [
    {
     "name": "stdout",
     "output_type": "stream",
     "text": [
      "{1: 3, 2: 2, 3: 3, 4: 4, 5: 4, 6: 4, 7: 4, 8: 3, 9: 1}\n",
      "[1, 2, 3, 3, 3, 4, 4, 4, 4]\n"
     ]
    }
   ],
   "source": [
    "print g.degree()\n",
    "print sorted(g.degree().values())"
   ]
  },
  {
   "cell_type": "code",
   "execution_count": 99,
   "metadata": {
    "collapsed": false
   },
   "outputs": [
    {
     "data": {
      "text/plain": [
       "3"
      ]
     },
     "execution_count": 99,
     "metadata": {},
     "output_type": "execute_result"
    }
   ],
   "source": [
    "g.degree(1)"
   ]
  },
  {
   "cell_type": "code",
   "execution_count": 100,
   "metadata": {
    "collapsed": false
   },
   "outputs": [
    {
     "data": {
      "text/plain": [
       "{1: 3, 2: 2, 3: 3}"
      ]
     },
     "execution_count": 100,
     "metadata": {},
     "output_type": "execute_result"
    }
   ],
   "source": [
    "g.degree([1, 2, 3])"
   ]
  },
  {
   "cell_type": "markdown",
   "metadata": {},
   "source": [
    "### - Connected Components"
   ]
  },
  {
   "cell_type": "code",
   "execution_count": 101,
   "metadata": {
    "collapsed": false
   },
   "outputs": [
    {
     "name": "stdout",
     "output_type": "stream",
     "text": [
      "set([1, 2, 3, 4, 5, 6, 7, 8, 9])\n",
      "set([100])\n"
     ]
    }
   ],
   "source": [
    "g.add_node(100)\n",
    "for components in nx.connected_components(g):\n",
    "    print components"
   ]
  },
  {
   "cell_type": "code",
   "execution_count": 103,
   "metadata": {
    "collapsed": true
   },
   "outputs": [],
   "source": [
    "g.remove_node(100)"
   ]
  },
  {
   "cell_type": "markdown",
   "metadata": {},
   "source": [
    "### - Clustering Coefficients"
   ]
  },
  {
   "cell_type": "code",
   "execution_count": 104,
   "metadata": {
    "collapsed": false
   },
   "outputs": [
    {
     "data": {
      "text/plain": [
       "{1: 0.6666666666666666,\n",
       " 2: 1.0,\n",
       " 3: 0.6666666666666666,\n",
       " 4: 0.3333333333333333,\n",
       " 5: 0.6666666666666666,\n",
       " 6: 0.6666666666666666,\n",
       " 7: 0.5,\n",
       " 8: 1.0,\n",
       " 9: 0.0,\n",
       " 400: 0.0}"
      ]
     },
     "execution_count": 104,
     "metadata": {},
     "output_type": "execute_result"
    }
   ],
   "source": [
    "nx.clustering(g)"
   ]
  },
  {
   "cell_type": "markdown",
   "metadata": {},
   "source": [
    "### - Degree Centrality"
   ]
  },
  {
   "cell_type": "code",
   "execution_count": 106,
   "metadata": {
    "collapsed": false
   },
   "outputs": [],
   "source": [
    "degree_centrality = nx.degree_centrality(g)"
   ]
  },
  {
   "cell_type": "code",
   "execution_count": 107,
   "metadata": {
    "collapsed": false
   },
   "outputs": [
    {
     "data": {
      "text/plain": [
       "{1: 0.3333333333333333,\n",
       " 2: 0.2222222222222222,\n",
       " 3: 0.3333333333333333,\n",
       " 4: 0.4444444444444444,\n",
       " 5: 0.4444444444444444,\n",
       " 6: 0.4444444444444444,\n",
       " 7: 0.4444444444444444,\n",
       " 8: 0.3333333333333333,\n",
       " 9: 0.1111111111111111,\n",
       " 400: 0.0}"
      ]
     },
     "execution_count": 107,
     "metadata": {},
     "output_type": "execute_result"
    }
   ],
   "source": [
    "degree_centrality "
   ]
  },
  {
   "cell_type": "code",
   "execution_count": 112,
   "metadata": {
    "collapsed": false
   },
   "outputs": [
    {
     "data": {
      "text/plain": [
       "dict"
      ]
     },
     "execution_count": 112,
     "metadata": {},
     "output_type": "execute_result"
    }
   ],
   "source": [
    "type(degree_centrality)"
   ]
  },
  {
   "cell_type": "code",
   "execution_count": 113,
   "metadata": {
    "collapsed": false
   },
   "outputs": [
    {
     "name": "stdout",
     "output_type": "stream",
     "text": [
      "[(1, 0.3333333333333333), (2, 0.2222222222222222), (3, 0.3333333333333333), (4, 0.4444444444444444), (5, 0.4444444444444444), (6, 0.4444444444444444), (7, 0.4444444444444444), (8, 0.3333333333333333), (9, 0.1111111111111111), (400, 0.0)]\n"
     ]
    }
   ],
   "source": [
    "print degree_centrality.items()"
   ]
  },
  {
   "cell_type": "code",
   "execution_count": 108,
   "metadata": {
    "collapsed": true
   },
   "outputs": [],
   "source": [
    "import operator\n",
    "\n",
    "def sort_map(map):\n",
    "    sortedList = map.items()\n",
    "    sortedList.sort(key=operator.itemgetter(1), reverse=True)\n",
    "    return sortedList\n"
   ]
  },
  {
   "cell_type": "code",
   "execution_count": 110,
   "metadata": {
    "collapsed": false
   },
   "outputs": [],
   "source": [
    "sorted_degree_centrality = sort_map(degree_centrality)"
   ]
  },
  {
   "cell_type": "code",
   "execution_count": 111,
   "metadata": {
    "collapsed": false
   },
   "outputs": [
    {
     "data": {
      "text/plain": [
       "[(4, 0.4444444444444444),\n",
       " (5, 0.4444444444444444),\n",
       " (6, 0.4444444444444444),\n",
       " (7, 0.4444444444444444),\n",
       " (1, 0.3333333333333333),\n",
       " (3, 0.3333333333333333),\n",
       " (8, 0.3333333333333333),\n",
       " (2, 0.2222222222222222),\n",
       " (9, 0.1111111111111111),\n",
       " (400, 0.0)]"
      ]
     },
     "execution_count": 111,
     "metadata": {},
     "output_type": "execute_result"
    }
   ],
   "source": [
    "sorted_degree_centrality"
   ]
  },
  {
   "cell_type": "markdown",
   "metadata": {},
   "source": [
    "### - Closeness  Centrality"
   ]
  },
  {
   "cell_type": "code",
   "execution_count": 114,
   "metadata": {
    "collapsed": true
   },
   "outputs": [],
   "source": [
    "closeness_centrality = nx.closeness_centrality(g)"
   ]
  },
  {
   "cell_type": "code",
   "execution_count": 115,
   "metadata": {
    "collapsed": false
   },
   "outputs": [
    {
     "data": {
      "text/plain": [
       "{1: 0.4183006535947712,\n",
       " 2: 0.30917874396135264,\n",
       " 3: 0.4183006535947712,\n",
       " 4: 0.5470085470085471,\n",
       " 5: 0.5470085470085471,\n",
       " 6: 0.5470085470085471,\n",
       " 7: 0.4444444444444444,\n",
       " 8: 0.4183006535947712,\n",
       " 9: 0.30917874396135264,\n",
       " 400: 0.0}"
      ]
     },
     "execution_count": 115,
     "metadata": {},
     "output_type": "execute_result"
    }
   ],
   "source": [
    "closeness_centrality"
   ]
  },
  {
   "cell_type": "code",
   "execution_count": 116,
   "metadata": {
    "collapsed": true
   },
   "outputs": [],
   "source": [
    "sorted_closeness_centrality = sort_map(closeness_centrality)"
   ]
  },
  {
   "cell_type": "code",
   "execution_count": 117,
   "metadata": {
    "collapsed": false
   },
   "outputs": [
    {
     "data": {
      "text/plain": [
       "[(4, 0.5470085470085471),\n",
       " (5, 0.5470085470085471),\n",
       " (6, 0.5470085470085471),\n",
       " (7, 0.4444444444444444),\n",
       " (1, 0.4183006535947712),\n",
       " (3, 0.4183006535947712),\n",
       " (8, 0.4183006535947712),\n",
       " (2, 0.30917874396135264),\n",
       " (9, 0.30917874396135264),\n",
       " (400, 0.0)]"
      ]
     },
     "execution_count": 117,
     "metadata": {},
     "output_type": "execute_result"
    }
   ],
   "source": [
    "sorted_closeness_centrality "
   ]
  },
  {
   "cell_type": "markdown",
   "metadata": {},
   "source": [
    "### - Betweenness  Centrality"
   ]
  },
  {
   "cell_type": "code",
   "execution_count": 119,
   "metadata": {
    "collapsed": true
   },
   "outputs": [],
   "source": [
    "bet_centrality = nx.betweenness_centrality(g)"
   ]
  },
  {
   "cell_type": "code",
   "execution_count": 120,
   "metadata": {
    "collapsed": false
   },
   "outputs": [
    {
     "data": {
      "text/plain": [
       "{1: 0.08333333333333333,\n",
       " 2: 0.0,\n",
       " 3: 0.08333333333333333,\n",
       " 4: 0.41666666666666663,\n",
       " 5: 0.16666666666666666,\n",
       " 6: 0.16666666666666666,\n",
       " 7: 0.19444444444444442,\n",
       " 8: 0.0,\n",
       " 9: 0.0,\n",
       " 400: 0.0}"
      ]
     },
     "execution_count": 120,
     "metadata": {},
     "output_type": "execute_result"
    }
   ],
   "source": [
    "bet_centrality"
   ]
  },
  {
   "cell_type": "code",
   "execution_count": 121,
   "metadata": {
    "collapsed": true
   },
   "outputs": [],
   "source": [
    "sorted_bet_centrality =sort_map(bet_centrality)"
   ]
  },
  {
   "cell_type": "code",
   "execution_count": 122,
   "metadata": {
    "collapsed": false
   },
   "outputs": [
    {
     "data": {
      "text/plain": [
       "[(4, 0.41666666666666663),\n",
       " (7, 0.19444444444444442),\n",
       " (5, 0.16666666666666666),\n",
       " (6, 0.16666666666666666),\n",
       " (1, 0.08333333333333333),\n",
       " (3, 0.08333333333333333),\n",
       " (2, 0.0),\n",
       " (8, 0.0),\n",
       " (9, 0.0),\n",
       " (400, 0.0)]"
      ]
     },
     "execution_count": 122,
     "metadata": {},
     "output_type": "execute_result"
    }
   ],
   "source": [
    "sorted_bet_centrality"
   ]
  },
  {
   "cell_type": "markdown",
   "metadata": {},
   "source": [
    "### - Eigenvector Centrality"
   ]
  },
  {
   "cell_type": "code",
   "execution_count": 124,
   "metadata": {
    "collapsed": true
   },
   "outputs": [],
   "source": [
    "eigenvector_centrality = nx.eigenvector_centrality(g)"
   ]
  },
  {
   "cell_type": "code",
   "execution_count": 125,
   "metadata": {
    "collapsed": false
   },
   "outputs": [
    {
     "data": {
      "text/plain": [
       "{1: 0.19575179821589203,\n",
       " 2: 0.11168619729756277,\n",
       " 3: 0.19575179821589203,\n",
       " 4: 0.3787497778502688,\n",
       " 5: 0.4680845766467968,\n",
       " 6: 0.4680845766467968,\n",
       " 7: 0.4099777873648636,\n",
       " 8: 0.3840189757284675,\n",
       " 9: 0.11695539517576153,\n",
       " 400: 0.0}"
      ]
     },
     "execution_count": 125,
     "metadata": {},
     "output_type": "execute_result"
    }
   ],
   "source": [
    "eigenvector_centrality"
   ]
  },
  {
   "cell_type": "code",
   "execution_count": 126,
   "metadata": {
    "collapsed": true
   },
   "outputs": [],
   "source": [
    "sorted_eigenvector_centrality= sort_map(eigenvector_centrality)\n"
   ]
  },
  {
   "cell_type": "code",
   "execution_count": 127,
   "metadata": {
    "collapsed": false
   },
   "outputs": [
    {
     "data": {
      "text/plain": [
       "[(5, 0.4680845766467968),\n",
       " (6, 0.4680845766467968),\n",
       " (7, 0.4099777873648636),\n",
       " (8, 0.3840189757284675),\n",
       " (4, 0.3787497778502688),\n",
       " (1, 0.19575179821589203),\n",
       " (3, 0.19575179821589203),\n",
       " (9, 0.11695539517576153),\n",
       " (2, 0.11168619729756277),\n",
       " (400, 0.0)]"
      ]
     },
     "execution_count": 127,
     "metadata": {},
     "output_type": "execute_result"
    }
   ],
   "source": [
    "sorted_eigenvector_centrality "
   ]
  },
  {
   "cell_type": "markdown",
   "metadata": {},
   "source": [
    "### - Build a table with four centralities \n"
   ]
  },
  {
   "cell_type": "code",
   "execution_count": 128,
   "metadata": {
    "collapsed": true
   },
   "outputs": [],
   "source": [
    "rounded_degree_centrality = {k: round(v, 3) for k, v in degree_centrality.items()}\n"
   ]
  },
  {
   "cell_type": "code",
   "execution_count": 129,
   "metadata": {
    "collapsed": true
   },
   "outputs": [],
   "source": [
    "rounded_closeness_centrality = {k: round(v, 3) for k, v in closeness_centrality.items()}\n"
   ]
  },
  {
   "cell_type": "code",
   "execution_count": 130,
   "metadata": {
    "collapsed": true
   },
   "outputs": [],
   "source": [
    "rounded_bet_centrality = {k: round(v, 3) for k, v in bet_centrality.items()}\n"
   ]
  },
  {
   "cell_type": "code",
   "execution_count": 131,
   "metadata": {
    "collapsed": true
   },
   "outputs": [],
   "source": [
    "rounded_eigenvector_centrality = {k: round(v, 3) for k, v in eigenvector_centrality.items()}\n"
   ]
  },
  {
   "cell_type": "code",
   "execution_count": 135,
   "metadata": {
    "collapsed": true
   },
   "outputs": [],
   "source": [
    "table = [[node, rounded_degree_centrality[node], \n",
    "          rounded_closeness_centrality[node], \n",
    "          rounded_bet_centrality[node], \n",
    "          rounded_eigenvector_centrality[node]] for node in g.nodes()]\n"
   ]
  },
  {
   "cell_type": "code",
   "execution_count": 138,
   "metadata": {
    "collapsed": false
   },
   "outputs": [
    {
     "data": {
      "text/plain": [
       "[[1, 0.333, 0.418, 0.083, 0.196],\n",
       " [2, 0.222, 0.309, 0.0, 0.112],\n",
       " [3, 0.333, 0.418, 0.083, 0.196],\n",
       " [4, 0.444, 0.547, 0.417, 0.379],\n",
       " [5, 0.444, 0.547, 0.167, 0.468],\n",
       " [6, 0.444, 0.547, 0.167, 0.468],\n",
       " [7, 0.444, 0.444, 0.194, 0.41],\n",
       " [8, 0.333, 0.418, 0.0, 0.384],\n",
       " [9, 0.111, 0.309, 0.0, 0.117],\n",
       " [400, 0.0, 0.0, 0.0, 0.0]]"
      ]
     },
     "execution_count": 138,
     "metadata": {},
     "output_type": "execute_result"
    }
   ],
   "source": [
    "table"
   ]
  },
  {
   "cell_type": "code",
   "execution_count": null,
   "metadata": {
    "collapsed": true
   },
   "outputs": [],
   "source": []
  }
 ],
 "metadata": {
  "kernelspec": {
   "display_name": "Python 2",
   "language": "python",
   "name": "python2"
  },
  "language_info": {
   "codemirror_mode": {
    "name": "ipython",
    "version": 2
   },
   "file_extension": ".py",
   "mimetype": "text/x-python",
   "name": "python",
   "nbconvert_exporter": "python",
   "pygments_lexer": "ipython2",
   "version": "2.7.9"
  }
 },
 "nbformat": 4,
 "nbformat_minor": 0
}
