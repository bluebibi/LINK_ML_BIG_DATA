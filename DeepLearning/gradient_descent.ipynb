{
 "cells": [
  {
   "cell_type": "code",
   "execution_count": 1,
   "metadata": {
    "collapsed": false
   },
   "outputs": [
    {
     "name": "stdout",
     "output_type": "stream",
     "text": [
      "Iteration: 0, w[0]: 1.00202870369, w[1]: 2.08050394058\n",
      "Iteration: 100, w[0]: 2.56426358223, w[1]: 5.35843658447\n",
      "Iteration: 200, w[0]: 2.61190247536, w[1]: 5.63311815262\n",
      "Iteration: 300, w[0]: 2.5483622551, w[1]: 5.69357156754\n",
      "Iteration: 400, w[0]: 2.48466515541, w[1]: 5.73531007767\n",
      "Iteration: 500, w[0]: 2.42317891121, w[1]: 5.77815628052\n",
      "Iteration: 600, w[0]: 2.37501096725, w[1]: 5.81452465057\n",
      "Iteration: 700, w[0]: 2.32054543495, w[1]: 5.81753587723\n",
      "Iteration: 800, w[0]: 2.28632497787, w[1]: 5.85570144653\n",
      "Iteration: 900, w[0]: 2.24024033546, w[1]: 5.85862207413\n",
      "Iteration: 1000, w[0]: 2.21134662628, w[1]: 5.88875675201\n",
      "Iteration: 1100, w[0]: 2.18990254402, w[1]: 5.90994310379\n",
      "Iteration: 1200, w[0]: 2.16502547264, w[1]: 5.9154343605\n",
      "Iteration: 1300, w[0]: 2.14210343361, w[1]: 5.9167881012\n",
      "Iteration: 1400, w[0]: 2.12911081314, w[1]: 5.93306303024\n",
      "Iteration: 1500, w[0]: 2.11380076408, w[1]: 5.93931007385\n",
      "Iteration: 1600, w[0]: 2.09788990021, w[1]: 5.9498052597\n",
      "Iteration: 1700, w[0]: 2.08282995224, w[1]: 5.95320749283\n",
      "Iteration: 1800, w[0]: 2.07538485527, w[1]: 5.9631228447\n",
      "Iteration: 1900, w[0]: 2.06331038475, w[1]: 5.96601295471\n",
      "Predicted model: 2.056x + 5.968\n"
     ]
    }
   ],
   "source": [
    "import tensorflow as tf\n",
    "import numpy as np\n",
    "\n",
    "# Our real model of y = 2 * x + 6\n",
    "def y_real(x):\n",
    "    return tf.mul(x, 2) + 6\n",
    "\n",
    "# Our model of y = w[0] * x + w[1]\n",
    "def y_model(x, w):\n",
    "    return tf.mul(x, w[0]) + w[1] \n",
    "\n",
    "# x and y are placeholders for our training data\n",
    "x = tf.placeholder(\"float\")\n",
    "\n",
    "# w is the variable storing our values. It is initialised with starting \"guesses\"\n",
    "# w[0] is the \"a\" in our equation, w[1] is the \"b\"\n",
    "w = tf.Variable([1.0, 2.0], name=\"w\")\n",
    "\n",
    "# Our error is defined as the square of the differences\n",
    "error = tf.square(y_real(x) - y_model(x, w))\n",
    "\n",
    "# The Gradient Descent Optimizer does the heavy lifting\n",
    "train_op = tf.train.GradientDescentOptimizer(0.01).minimize(error)\n",
    "\n",
    "# Normal TensorFlow - initialize values, create a session and run the model\n",
    "model = tf.initialize_all_variables()\n",
    "\n",
    "with tf.Session() as session:\n",
    "    session.run(model)\n",
    "    for i in range(2000):\n",
    "        x_value = np.random.rand()\n",
    "        session.run(train_op, feed_dict={x: x_value})\n",
    "        if i % 100 == 0:\n",
    "            print \"Iteration: {0}, w[0]: {1}, w[1]: {2}\".format(i, w[0].eval(), w[1].eval())\n",
    "\n",
    "    w_value = session.run(w)\n",
    "    print \"Predicted model: {a:.3f}x + {b:.3f}\".format(a=w_value[0], b=w_value[1])"
   ]
  },
  {
   "cell_type": "code",
   "execution_count": null,
   "metadata": {
    "collapsed": true
   },
   "outputs": [],
   "source": []
  }
 ],
 "metadata": {
  "anaconda-cloud": {},
  "kernelspec": {
   "display_name": "Python [Root]",
   "language": "python",
   "name": "Python [Root]"
  },
  "language_info": {
   "codemirror_mode": {
    "name": "ipython",
    "version": 2
   },
   "file_extension": ".py",
   "mimetype": "text/x-python",
   "name": "python",
   "nbconvert_exporter": "python",
   "pygments_lexer": "ipython2",
   "version": "2.7.12"
  }
 },
 "nbformat": 4,
 "nbformat_minor": 0
}
