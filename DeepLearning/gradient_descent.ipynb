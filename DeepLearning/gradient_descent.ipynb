{
 "cells": [
  {
   "cell_type": "markdown",
   "metadata": {},
   "source": [
    "### 선형회귀 모델에 대한 GrandientDescentOptimizer 활용"
   ]
  },
  {
   "cell_type": "markdown",
   "metadata": {},
   "source": [
    "- 1개의 값씩 훈련을 시키는 코드"
   ]
  },
  {
   "cell_type": "code",
   "execution_count": 88,
   "metadata": {
    "collapsed": false
   },
   "outputs": [
    {
     "name": "stdout",
     "output_type": "stream",
     "text": [
      "Iteration: 0, w: 1.09470880032, b: 1.11628854275\n",
      "Iteration: 100, w: 3.0098092556, b: 5.07469415665\n",
      "Iteration: 200, w: 2.9991941452, b: 5.44047451019\n",
      "Iteration: 300, w: 2.88800668716, b: 5.54555082321\n",
      "Iteration: 400, w: 2.80619549751, b: 5.65400075912\n",
      "Iteration: 500, w: 2.69381070137, b: 5.66528463364\n",
      "Iteration: 600, w: 2.60500907898, b: 5.70556545258\n",
      "Iteration: 700, w: 2.51092100143, b: 5.74172258377\n",
      "Iteration: 800, w: 2.43069624901, b: 5.77385377884\n",
      "Iteration: 900, w: 2.39865279198, b: 5.81740093231\n",
      "Iteration: 1000, w: 2.32709956169, b: 5.79252147675\n",
      "Iteration: 1100, w: 2.29714798927, b: 5.85363101959\n",
      "Iteration: 1200, w: 2.25430893898, b: 5.8688378334\n",
      "Iteration: 1300, w: 2.21425652504, b: 5.87602186203\n",
      "Iteration: 1400, w: 2.19013786316, b: 5.89815664291\n",
      "Iteration: 1500, w: 2.16285729408, b: 5.90386295319\n",
      "Iteration: 1600, w: 2.14729189873, b: 5.9225025177\n",
      "Iteration: 1700, w: 2.12831473351, b: 5.92874097824\n",
      "Iteration: 1800, w: 2.11293983459, b: 5.9376168251\n",
      "Iteration: 1900, w: 2.09764838219, b: 5.94460248947\n",
      "Predicted model: 2.08598470688x + 5.95239257812\n"
     ]
    }
   ],
   "source": [
    "import tensorflow as tf\n",
    "import numpy as np\n",
    "\n",
    "# Our real model of y = 2 * x + 6\n",
    "def y_real(x):\n",
    "    return tf.mul(x, 2) + 6\n",
    "\n",
    "# Our model of y = w * x + b\n",
    "def y_model(x, w, b):\n",
    "    return tf.mul(x, w) + b \n",
    "\n",
    "# x and y are placeholders for our training data\n",
    "x = tf.placeholder(\"float\")\n",
    "\n",
    "# w and b are the variables storing our values. It is initialised with starting \"guesses\"\n",
    "w = tf.Variable(1.0, name=\"w\")\n",
    "b = tf.Variable(1.0, name=\"b\")\n",
    "\n",
    "# Our error is defined as the square of the differences\n",
    "error = tf.square(y_real(x) - y_model(x, w, b))\n",
    "\n",
    "# The Gradient Descent Optimizer does the heavy lifting\n",
    "train_op = tf.train.GradientDescentOptimizer(0.01).minimize(error)\n",
    "\n",
    "# Normal TensorFlow - initialize values, create a session and run the model\n",
    "model = tf.initialize_all_variables()\n",
    "\n",
    "errors = []\n",
    "with tf.Session() as session:\n",
    "    session.run(model)\n",
    "    for i in range(2000):\n",
    "        x_value = np.random.rand()\n",
    "        _, error_value = session.run([train_op, error], feed_dict={x: x_value})\n",
    "        errors.append(error_value)\n",
    "        if i % 100 == 0:\n",
    "            print \"Iteration: {0}, w: {1}, b: {2}\".format(i, w.eval(), b.eval())\n",
    "    \n",
    "    print \"Predicted model: {0}x + {1}\".format(w.eval(), b.eval())    "
   ]
  },
  {
   "cell_type": "code",
   "execution_count": 89,
   "metadata": {
    "collapsed": false
   },
   "outputs": [
    {
     "name": "stdout",
     "output_type": "stream",
     "text": [
      "309\n"
     ]
    },
    {
     "data": {
      "image/png": "[encoded data removed]",
      "text/plain": [
       "<matplotlib.figure.Figure at 0x1224a84d0>"
      ]
     },
     "metadata": {},
     "output_type": "display_data"
    },
    {
     "data": {
      "text/plain": [
       "<matplotlib.figure.Figure at 0x1246b1ad0>"
      ]
     },
     "metadata": {},
     "output_type": "display_data"
    }
   ],
   "source": [
    "import matplotlib.pyplot as plt\n",
    "%matplotlib inline\n",
    "\n",
    "error_list = [errors[i] for i in range(len(errors))]\n",
    "num = 0\n",
    "for error in error_list:\n",
    "    if error < 0.00001:\n",
    "        print num\n",
    "        break\n",
    "    num += 1    \n",
    "plt.plot(error_list)\n",
    "plt.show()\n",
    "plt.savefig(\"errors.png\")    "
   ]
  },
  {
   "cell_type": "markdown",
   "metadata": {},
   "source": [
    "- batch 입력을 적용하여 n개의 값씩 훈련시키는 코드"
   ]
  },
  {
   "cell_type": "code",
   "execution_count": 90,
   "metadata": {
    "collapsed": false
   },
   "outputs": [
    {
     "name": "stdout",
     "output_type": "stream",
     "text": [
      "Iteration: 0, w: [ 1.3002646], b: [ 1.24757564]\n",
      "Iteration: 100, w: [ 2.02603269], b: [ 5.91983938]\n",
      "Iteration: 200, w: [ 2.00092173], b: [ 5.99856377]\n",
      "Iteration: 300, w: [ 2.00000954], b: [ 5.99998379]\n",
      "Iteration: 400, w: [ 1.99999988], b: [ 5.99999619]\n",
      "Iteration: 500, w: [ 1.99999976], b: [ 5.99999619]\n",
      "Iteration: 600, w: [ 2.00000048], b: [ 5.99999619]\n",
      "Iteration: 700, w: [ 2.00000024], b: [ 5.99999619]\n",
      "Iteration: 800, w: [ 1.99999976], b: [ 5.99999619]\n",
      "Iteration: 900, w: [ 2.], b: [ 5.99999619]\n",
      "Iteration: 1000, w: [ 2.00000048], b: [ 5.99999619]\n",
      "Iteration: 1100, w: [ 1.99999988], b: [ 5.99999619]\n",
      "Iteration: 1200, w: [ 1.99999988], b: [ 5.99999619]\n",
      "Iteration: 1300, w: [ 2.], b: [ 5.99999619]\n",
      "Iteration: 1400, w: [ 1.99999976], b: [ 5.99999619]\n",
      "Iteration: 1500, w: [ 2.00000024], b: [ 5.99999619]\n",
      "Iteration: 1600, w: [ 1.99999917], b: [ 5.99999619]\n",
      "Iteration: 1700, w: [ 1.99999988], b: [ 5.99999619]\n",
      "Iteration: 1800, w: [ 1.9999994], b: [ 5.99999619]\n",
      "Iteration: 1900, w: [ 2.], b: [ 5.99999619]\n",
      "Predicted model: [ 1.99999988]x + [ 5.99999619]\n"
     ]
    }
   ],
   "source": [
    "# Our real model of y = 2 * x + 6\n",
    "def y_real(x):\n",
    "    return tf.mul(x, 2) + 6\n",
    "\n",
    "# Our model of y = w * x + b\n",
    "def y_model(x, w, b):\n",
    "    return tf.mul(x, w) + b \n",
    "\n",
    "# Batch\n",
    "batch_size = 2\n",
    "\n",
    "# x and y are placeholders for our training data\n",
    "x = tf.placeholder(\"float\", [None, 1])\n",
    "\n",
    "# w and b are the variables storing our values. It is initialised with starting \"guesses\"\n",
    "w = tf.Variable([1.0], name=\"w\")\n",
    "b = tf.Variable([1.0], name=\"b\")\n",
    "\n",
    "# Our error is defined as the square of the differences\n",
    "error = tf.reduce_sum(tf.square(y_real(x) - y_model(x, w, b)))\n",
    "\n",
    "# The Gradient Descent Optimizer does the heavy lifting\n",
    "train_op = tf.train.GradientDescentOptimizer(0.01).minimize(error)\n",
    "\n",
    "# Normal TensorFlow - initialize values, create a session and run the model\n",
    "model = tf.initialize_all_variables()\n",
    "\n",
    "errors = []\n",
    "with tf.Session() as session:\n",
    "    session.run(model)\n",
    "    for i in range(2000):\n",
    "        x_value = np.random.randn(batch_size, 1)\n",
    "        _, error_value = session.run([train_op, error], feed_dict={x: x_value})\n",
    "        errors.append(error_value)\n",
    "        if i % 100 == 0:\n",
    "            print \"Iteration: {0}, w: {1}, b: {2}\".format(i, w.eval(), b.eval())\n",
    "    \n",
    "    print \"Predicted model: {0}x + {1}\".format(w.eval(), b.eval())    "
   ]
  },
  {
   "cell_type": "code",
   "execution_count": 91,
   "metadata": {
    "collapsed": false
   },
   "outputs": [
    {
     "name": "stdout",
     "output_type": "stream",
     "text": [
      "150\n"
     ]
    },
    {
     "data": {
      "image/png": "[encoded data removed]",
      "text/plain": [
       "<matplotlib.figure.Figure at 0x124d7af50>"
      ]
     },
     "metadata": {},
     "output_type": "display_data"
    },
    {
     "data": {
      "text/plain": [
       "<matplotlib.figure.Figure at 0x123ed1590>"
      ]
     },
     "metadata": {},
     "output_type": "display_data"
    }
   ],
   "source": [
    "error_list = [errors[i] for i in range(len(errors))]\n",
    "num = 0\n",
    "for error in error_list:\n",
    "    if error < 0.0001:\n",
    "        print num\n",
    "        break\n",
    "    num += 1  \n",
    "plt.plot(error_list)\n",
    "plt.show()\n",
    "plt.savefig(\"errors.png\") "
   ]
  }
 ],
 "metadata": {
  "anaconda-cloud": {},
  "kernelspec": {
   "display_name": "Python [Root]",
   "language": "python",
   "name": "Python [Root]"
  },
  "language_info": {
   "codemirror_mode": {
    "name": "ipython",
    "version": 2
   },
   "file_extension": ".py",
   "mimetype": "text/x-python",
   "name": "python",
   "nbconvert_exporter": "python",
   "pygments_lexer": "ipython2",
   "version": "2.7.12"
  }
 },
 "nbformat": 4,
 "nbformat_minor": 0
}
