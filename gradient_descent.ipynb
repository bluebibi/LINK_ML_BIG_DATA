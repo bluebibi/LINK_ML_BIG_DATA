{
 "cells": [
  {
   "cell_type": "markdown",
   "metadata": {},
   "source": [
    "# gradient descent (경사 하강법)"
   ]
  },
  {
   "cell_type": "markdown",
   "metadata": {},
   "source": [
    "- Univariate Linear Regression 에서 gradient descent (경사 하강법) 설명"
   ]
  },
  {
   "cell_type": "markdown",
   "metadata": {},
   "source": [
    "- Hypothesis Function\n",
    "$$h_{\\theta_0, \\theta_1}(x) = \\theta_0 + \\theta_1 \\cdot x$$"
   ]
  },
  {
   "cell_type": "markdown",
   "metadata": {},
   "source": [
    "- Cost Function $J(\\theta_0, \\theta_1)$"
   ]
  },
  {
   "cell_type": "markdown",
   "metadata": {},
   "source": [
    "\\begin{eqnarray}\n",
    "  J(\\theta_0, \\theta_1) &=& \\dfrac{1}{2m} \\sum_{i=1}^m \\big( h_{\\theta_0, \\theta_1}(x^i) - y^i \\big)^2 \\\\\n",
    "  &=& \\dfrac{1}{2m}\\sum_{i=1}^m \\big( \\theta_0 + \\theta_1\\cdot x^i - y^i \\big)^2\n",
    "\\end{eqnarray}"
   ]
  },
  {
   "cell_type": "markdown",
   "metadata": {},
   "source": [
    "- We need derivatives for both $\\theta_0$ and $\\theta_1$:"
   ]
  },
  {
   "cell_type": "markdown",
   "metadata": {},
   "source": [
    "\\begin{eqnarray}\n",
    "        \\frac{\\partial}{\\partial \\theta_0}J(\\theta_0, \\theta_1) &=& \\frac{1}{m} \\sum_{i=1}^m (\\theta_0 + \\theta_1 x^{i}-y^{i}) \\\\\n",
    "        \\frac{\\partial}{\\partial \\theta_1}J(\\theta_0, \\theta_1) &=& \\frac{1}{m} \\sum_{i=1}^m (\\theta_0 + \\theta_1 x^{i}-y^{i})\\cdot x^{i}\n",
    "\\end{eqnarray}"
   ]
  },
  {
   "cell_type": "markdown",
   "metadata": {},
   "source": [
    "#### Batch Gradient Descent\n",
    "  - 1) Pick an initial value for $\\hat \\theta $.\n",
    "  - 2) Compute\n",
    "  $$ \\frac{\\partial J}{\\partial \\theta} = \\big( \\frac{\\partial J(\\theta_0, \\theta_1)}{\\partial \\theta_0}, \\frac{\\partial J(\\theta_0, \\theta_1)}{\\partial \\theta_1} \\big) $$\n",
    "  - 3) Compute with a proper learning rate $\\alpha$\n",
    "\n",
    "    $$\n",
    "        temp_0 := \\theta_0 -\\alpha \\frac{\\partial}{\\partial \\theta_0}J(\\theta_0, \\theta_1)\\\\\n",
    "        temp_1 := \\theta_1 -\\alpha \\frac{\\partial}{\\partial \\theta_1}J(\\theta_0, \\theta_1)\n",
    "    $$\n",
    "\n",
    "    $$\n",
    "        \\theta_0 := temp_0\\\\\n",
    "        \\theta_1 := temp_1.\n",
    "    $$\n",
    "\n",
    "  - 4) Repeat 2) and 3) until update is small or reaches iteration maximum."
   ]
  },
  {
   "cell_type": "markdown",
   "metadata": {},
   "source": [
    "#### Stochastic (or Incremental) Gradient Descent\n",
    "  - 1) Pick an initial value for $\\hat \\theta $.\n",
    "  - 2) Compute\n",
    "  $$ \\frac{\\partial J}{\\partial \\theta} = \\big( \\frac{\\partial J(\\theta_0, \\theta_1)}{\\partial \\theta_0}, \\frac{\\partial J(\\theta_0, \\theta_1)}{\\partial \\theta_1} \\big) $$\n",
    "  - 3) Compute with a proper learning rate $\\alpha$\n",
    "\n",
    "    \\begin{aligned}\n",
    "        \\theta_0 := \\theta_0 -\\alpha \\frac{\\partial}{\\partial \\theta_0}J(\\theta_0, \\theta_1)\n",
    "    \\end{aligned}\n",
    "    \\begin{aligned}\n",
    "        \\theta_1 := \\theta_1 -\\alpha \\frac{\\partial}{\\partial \\theta_1}J(\\theta_0, \\theta_1).\n",
    "    \\end{aligned}\n",
    "\n",
    "  - 4) Repeat 2) and 3) until update is small or reaches iteration maximum.\n",
    "  - This method converges to the minimum more rapidly, but has the potential of overshooting the minimum and then oscillating around it."
   ]
  },
  {
   "cell_type": "markdown",
   "metadata": {},
   "source": [
    "- Learning Rate control\n",
    "  - By slowly letting the learning rate $\\alpha$ decrease to zero as the algorithm runs, it is also possible to ensure that the parameters will converge to the global minimum rather then merely oscillate around the minimum."
   ]
  },
  {
   "cell_type": "markdown",
   "metadata": {},
   "source": [
    "#### Local Optimum vs. Global optimum"
   ]
  },
  {
   "cell_type": "markdown",
   "metadata": {},
   "source": [
    "- For linear regression, the cost function $J(\\theta)$ does not have a local optimum other than the global optimum."
   ]
  },
  {
   "cell_type": "markdown",
   "metadata": {},
   "source": [
    "<img src=\"http://theroadchimp.com/wp-content/uploads/sites/3/2015/10/413x285ximg_561aee1e36c59.png.pagespeed.ic.0lRwrJgNPb.jpg\" border=0 width=\"50%\">"
   ]
  },
  {
   "cell_type": "markdown",
   "metadata": {},
   "source": [
    "- However, we need to be susceptible to local optima in general cases."
   ]
  },
  {
   "cell_type": "markdown",
   "metadata": {},
   "source": [
    "<img src=\"https://camo.githubusercontent.com/30bf2d42d3a9b0e07dbc03a014f4e36dbc06904f/68747470733a2f2f7261772e6769746875622e636f6d2f7175696e6e6c69752f4d616368696e654c6561726e696e672f6d61737465722f696d61676573466f724578706c616e6174696f6e2f4772616469656e7444657363656e74576974684d75746c69706c654c6f63616c4d696e696d756d2e6a7067\" width=\"60%\">"
   ]
  },
  {
   "cell_type": "markdown",
   "metadata": {},
   "source": [
    "#### Barch Gradient Descent - Python Code.\n",
    "- We get $\\theta_0$ and $\\theta_1$ as its output:"
   ]
  },
  {
   "cell_type": "code",
   "execution_count": 11,
   "metadata": {
    "collapsed": true
   },
   "outputs": [],
   "source": [
    "import numpy as np\n",
    "import random\n",
    "import sklearn\n",
    "from sklearn.datasets.samples_generator import make_regression \n",
    "import pylab\n",
    "from scipy import stats\n",
    "\n",
    "def gradient_descent(alpha, x, y, ep=0.0001, max_iter=10000):\n",
    "    converged = False\n",
    "    iter = 0\n",
    "    m = x.shape[0] # number of samples\n",
    "\n",
    "    # initial theta\n",
    "    t0 = np.random.random(x.shape[1])\n",
    "    t1 = np.random.random(x.shape[1])\n",
    "\n",
    "    # total error, J(theta)\n",
    "    J = sum([(t0 + t1*x[i] - y[i])**2 for i in range(m)])\n",
    "\n",
    "    # Iterate Loop\n",
    "    while not converged:\n",
    "        # for each training sample, compute the gradient (d/d_theta j(theta))\n",
    "        grad0 = 1.0/m * sum([(t0 + t1*x[i] - y[i]) for i in range(m)]) \n",
    "        grad1 = 1.0/m * sum([(t0 + t1*x[i] - y[i])*x[i] for i in range(m)])\n",
    "\n",
    "        # update the theta_temp\n",
    "        temp0 = t0 - alpha * grad0\n",
    "        temp1 = t1 - alpha * grad1\n",
    "    \n",
    "        # update theta\n",
    "        t0 = temp0\n",
    "        t1 = temp1\n",
    "\n",
    "        # mean squared error\n",
    "        e = sum( [ (t0 + t1*x[i] - y[i])**2 for i in range(m)] ) \n",
    "\n",
    "        if abs(J-e) <= ep:\n",
    "            print 'Converged, iterations: ', iter, '!!!'\n",
    "            converged = True\n",
    "    \n",
    "        J = e   # update error \n",
    "        iter += 1  # update iter\n",
    "    \n",
    "        if iter == max_iter:\n",
    "            print 'Max interactions exceeded!'\n",
    "            converged = True\n",
    "\n",
    "    return t0,t1"
   ]
  },
  {
   "cell_type": "markdown",
   "metadata": {},
   "source": [
    "- Data Preparation\n",
    "  - [ㅜNote]: http://scikit-learn.org/stable/modules/generated/sklearn.datasets.make_regression.html"
   ]
  },
  {
   "cell_type": "code",
   "execution_count": 2,
   "metadata": {
    "collapsed": false
   },
   "outputs": [
    {
     "name": "stdout",
     "output_type": "stream",
     "text": [
      "x.shape = (100, 1), y.shape = (100,)\n",
      "[[-0.24903507]\n",
      " [ 0.7275256 ]\n",
      " [-1.82153548]\n",
      " [-0.06684101]\n",
      " [-0.83520485]]\n",
      "[ -30.04674454   66.45653116 -157.97691617  -51.61242366  -31.35194057]\n"
     ]
    }
   ],
   "source": [
    "from sklearn.datasets.samples_generator import make_regression \n",
    "x, y = make_regression(n_samples=100, n_features=1, n_informative=1, noise=35) \n",
    "print 'x.shape = %s, y.shape = %s' % (x.shape, y.shape)\n",
    "print x[0:5]\n",
    "print y[0:5]"
   ]
  },
  {
   "cell_type": "markdown",
   "metadata": {},
   "source": [
    "- Do gradient descent!"
   ]
  },
  {
   "cell_type": "code",
   "execution_count": 3,
   "metadata": {
    "collapsed": false
   },
   "outputs": [
    {
     "name": "stdout",
     "output_type": "stream",
     "text": [
      "Converged, iterations:  661 !!!\n",
      "theta0 = [ 4.33695667], theta1 = [ 75.83778238]\n",
      "intercept = 4.3515016914, slope = 75.90233271\n"
     ]
    }
   ],
   "source": [
    "alpha = 0.01 # learning rate\n",
    "ep = 0.01 # convergence criteria\n",
    "\n",
    "# call gredient decent, and get intercept(=theta0) and slope(=theta1)\n",
    "theta0, theta1 = gradient_descent(alpha, x, y, ep, max_iter=10000)\n",
    "print ('theta0 = %s, theta1 = %s') %(theta0, theta1) \n",
    "\n",
    "# check with scipy linear regression \n",
    "slope, intercept, r_value, p_value, slope_std_error = stats.linregress(x[:,0], y)\n",
    "print ('intercept = %s, slope = %s') %(intercept, slope) \n",
    "\n",
    "# plot\n",
    "for i in range(x.shape[0]):\n",
    "    y_predict = theta0 + theta1*x "
   ]
  },
  {
   "cell_type": "code",
   "execution_count": 9,
   "metadata": {
    "collapsed": false
   },
   "outputs": [
    {
     "data": {
      "text/plain": [
       "[<matplotlib.lines.Line2D at 0x1129751d0>]"
      ]
     },
     "execution_count": 9,
     "metadata": {},
     "output_type": "execute_result"
    },
    {
     "data": {
      "image/png": "[encoded data removed]",
      "text/plain": [
       "<matplotlib.figure.Figure at 0x11295a890>"
      ]
     },
     "metadata": {},
     "output_type": "display_data"
    }
   ],
   "source": [
    "import matplotlib.pyplot as plt\n",
    "%matplotlib inline\n",
    "fig = plt.figure(figsize=(9, 8))\n",
    "ax1 = fig.add_subplot(111)\n",
    "ax1.scatter(x[:,0], y)\n",
    "ax1.plot(x[:,0], y_predict)"
   ]
  }
 ],
 "metadata": {
  "anaconda-cloud": {},
  "kernelspec": {
   "display_name": "Python [Root]",
   "language": "python",
   "name": "Python [Root]"
  },
  "language_info": {
   "codemirror_mode": {
    "name": "ipython",
    "version": 2
   },
   "file_extension": ".py",
   "mimetype": "text/x-python",
   "name": "python",
   "nbconvert_exporter": "python",
   "pygments_lexer": "ipython2",
   "version": "2.7.12"
  }
 },
 "nbformat": 4,
 "nbformat_minor": 0
}
