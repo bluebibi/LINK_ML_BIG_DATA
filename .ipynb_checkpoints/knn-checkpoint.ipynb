{
 "cells": [
  {
   "cell_type": "markdown",
   "metadata": {},
   "source": [
    "# k-Nearest Neighbors (kNN)"
   ]
  },
  {
   "cell_type": "markdown",
   "metadata": {
    "collapsed": true
   },
   "source": [
    "## 1. kNN 이란?"
   ]
  },
  {
   "cell_type": "code",
   "execution_count": 4,
   "metadata": {
    "collapsed": false
   },
   "outputs": [],
   "source": [
    "from sklearn import linear_model\n",
    "regr = linear_model.LinearRegression()"
   ]
  },
  {
   "cell_type": "markdown",
   "metadata": {},
   "source": [
    "- 참고: http://scikit-learn.org/dev/modules/classes.html#module-sklearn.linear_model"
   ]
  },
  {
   "cell_type": "markdown",
   "metadata": {},
   "source": [
    "## 2. 데이터 다루기 (Data Handling)"
   ]
  },
  {
   "cell_type": "markdown",
   "metadata": {},
   "source": [
    "### 1) Iris(붓꽃) Data Set\n",
    "- 참고: https://archive.ics.uci.edu/ml/datasets/Iris\n",
    "- 데이터 원본: https://archive.ics.uci.edu/ml/machine-learning-databases/iris/iris.data\n",
    "- 데이터 제목: Iris Plants Database\n",
    "- 원작자 정보\n",
    "  - Creator: R.A. Fisher\n",
    "  - Donor: Michael Marshall (MARSHALL%PLU@io.arc.nasa.gov)\n",
    "  - Date: July, 1988\n",
    "- 사례 개수: 150 \n",
    "  - 각 붓꽃 종류당 50개씩\n",
    "- 4개의 독립 변수(Feature)   \n",
    "  - a: 꽃받침 길이 (sepal length in cm)\n",
    "  - b: 꽃받침 넓이 (sepal width in cm)\n",
    "  - c: 꽃잎 길이 (petal length in cm)\n",
    "  - d: 꽃이 넓이 (petal width in cm)\n",
    "- 3부류의 백합 종류 (Image Source: wikipedia) \n",
    "<table>\n",
    "<tr>\n",
    "<th>Iris Setosa</th><th>Iris Versicolor</th><th>Iris Virginica</th>\n",
    "</tr>\n",
    "<tr>\n",
    "<td><img src=\"Iris_Setosa.jpg\" width=\"70%\" height=\"70%\"/></td>\n",
    "<td><img src=\"Iris_Versicolor.jpg\" width=\"70%\" height=\"70%\"/></td>\n",
    "<td><img src=\"Iris_virginica.jpg\" width=\"70%\" height=\"70%\"/></td>\n",
    "</tr>\n",
    "</table>\n",
    "- 참고 (Image Source: wikipedia)\n",
    "  - Sepal(꽃받침), Petal(꽃잎)<img src=\"Petal-sepal.jpg\" width=\"300px\">"
   ]
  },
  {
   "cell_type": "markdown",
   "metadata": {},
   "source": [
    "### 2) 데이터 로딩하기"
   ]
  },
  {
   "cell_type": "code",
   "execution_count": 182,
   "metadata": {
    "collapsed": false
   },
   "outputs": [
    {
     "name": "stdout",
     "output_type": "stream",
     "text": [
      "     sepal length  sepal width  petal length  petal width           class\n",
      "0             5.1          3.5           1.4          0.2     Iris-setosa\n",
      "1             4.9          3.0           1.4          0.2     Iris-setosa\n",
      "2             4.7          3.2           1.3          0.2     Iris-setosa\n",
      "3             4.6          3.1           1.5          0.2     Iris-setosa\n",
      "4             5.0          3.6           1.4          0.2     Iris-setosa\n",
      "5             5.4          3.9           1.7          0.4     Iris-setosa\n",
      "6             4.6          3.4           1.4          0.3     Iris-setosa\n",
      "7             5.0          3.4           1.5          0.2     Iris-setosa\n",
      "8             4.4          2.9           1.4          0.2     Iris-setosa\n",
      "9             4.9          3.1           1.5          0.1     Iris-setosa\n",
      "10            5.4          3.7           1.5          0.2     Iris-setosa\n",
      "11            4.8          3.4           1.6          0.2     Iris-setosa\n",
      "12            4.8          3.0           1.4          0.1     Iris-setosa\n",
      "13            4.3          3.0           1.1          0.1     Iris-setosa\n",
      "14            5.8          4.0           1.2          0.2     Iris-setosa\n",
      "15            5.7          4.4           1.5          0.4     Iris-setosa\n",
      "16            5.4          3.9           1.3          0.4     Iris-setosa\n",
      "17            5.1          3.5           1.4          0.3     Iris-setosa\n",
      "18            5.7          3.8           1.7          0.3     Iris-setosa\n",
      "19            5.1          3.8           1.5          0.3     Iris-setosa\n",
      "20            5.4          3.4           1.7          0.2     Iris-setosa\n",
      "21            5.1          3.7           1.5          0.4     Iris-setosa\n",
      "22            4.6          3.6           1.0          0.2     Iris-setosa\n",
      "23            5.1          3.3           1.7          0.5     Iris-setosa\n",
      "24            4.8          3.4           1.9          0.2     Iris-setosa\n",
      "25            5.0          3.0           1.6          0.2     Iris-setosa\n",
      "26            5.0          3.4           1.6          0.4     Iris-setosa\n",
      "27            5.2          3.5           1.5          0.2     Iris-setosa\n",
      "28            5.2          3.4           1.4          0.2     Iris-setosa\n",
      "29            4.7          3.2           1.6          0.2     Iris-setosa\n",
      "..            ...          ...           ...          ...             ...\n",
      "120           6.9          3.2           5.7          2.3  Iris-virginica\n",
      "121           5.6          2.8           4.9          2.0  Iris-virginica\n",
      "122           7.7          2.8           6.7          2.0  Iris-virginica\n",
      "123           6.3          2.7           4.9          1.8  Iris-virginica\n",
      "124           6.7          3.3           5.7          2.1  Iris-virginica\n",
      "125           7.2          3.2           6.0          1.8  Iris-virginica\n",
      "126           6.2          2.8           4.8          1.8  Iris-virginica\n",
      "127           6.1          3.0           4.9          1.8  Iris-virginica\n",
      "128           6.4          2.8           5.6          2.1  Iris-virginica\n",
      "129           7.2          3.0           5.8          1.6  Iris-virginica\n",
      "130           7.4          2.8           6.1          1.9  Iris-virginica\n",
      "131           7.9          3.8           6.4          2.0  Iris-virginica\n",
      "132           6.4          2.8           5.6          2.2  Iris-virginica\n",
      "133           6.3          2.8           5.1          1.5  Iris-virginica\n",
      "134           6.1          2.6           5.6          1.4  Iris-virginica\n",
      "135           7.7          3.0           6.1          2.3  Iris-virginica\n",
      "136           6.3          3.4           5.6          2.4  Iris-virginica\n",
      "137           6.4          3.1           5.5          1.8  Iris-virginica\n",
      "138           6.0          3.0           4.8          1.8  Iris-virginica\n",
      "139           6.9          3.1           5.4          2.1  Iris-virginica\n",
      "140           6.7          3.1           5.6          2.4  Iris-virginica\n",
      "141           6.9          3.1           5.1          2.3  Iris-virginica\n",
      "142           5.8          2.7           5.1          1.9  Iris-virginica\n",
      "143           6.8          3.2           5.9          2.3  Iris-virginica\n",
      "144           6.7          3.3           5.7          2.5  Iris-virginica\n",
      "145           6.7          3.0           5.2          2.3  Iris-virginica\n",
      "146           6.3          2.5           5.0          1.9  Iris-virginica\n",
      "147           6.5          3.0           5.2          2.0  Iris-virginica\n",
      "148           6.2          3.4           5.4          2.3  Iris-virginica\n",
      "149           5.9          3.0           5.1          1.8  Iris-virginica\n",
      "\n",
      "[150 rows x 5 columns]\n"
     ]
    }
   ],
   "source": [
    "import urllib2\n",
    "import json\n",
    "from scipy import stats\n",
    "from pandas import Series, DataFrame\n",
    "import pandas as pd\n",
    "import matplotlib.pyplot as plt\n",
    "import numpy as np\n",
    "%matplotlib inline\n",
    "\n",
    "path = 'https://archive.ics.uci.edu/ml/machine-learning-databases/iris/iris.data'\n",
    "raw_csv = urllib2.urlopen(path)\n",
    "feature_names = ('sepal length', 'sepal width', 'petal length', 'petal width')\n",
    "all_names = feature_names + ('class',)\n",
    "df = pd.read_csv(raw_csv, names=all_names)\n",
    "print df"
   ]
  },
  {
   "cell_type": "code",
   "execution_count": 144,
   "metadata": {
    "collapsed": false
   },
   "outputs": [
    {
     "name": "stdout",
     "output_type": "stream",
     "text": [
      "class\n",
      "Iris-setosa        50\n",
      "Iris-versicolor    50\n",
      "Iris-virginica     50\n",
      "Name: class, dtype: int64\n"
     ]
    }
   ],
   "source": [
    "iris_names = ('Iris-setosa', 'Iris-versicolor', 'Iris-virginica')\n",
    "df_group = df.groupby('class')['class']\n",
    "print df_group.count()\n",
    "#Iris_Setosa_Series = df_group.get_group('Iris-setosa')\n",
    "#Iris_Versicolor_Series = df_group.get_group('Iris-versicolor')\n",
    "#Iris_Virginica_Series = df_group.get_group('Iris-virginica')\n",
    "Iris_Se_Sub_Df = df[df['class'] == iris_names[0]]\n",
    "Iris_Ve_Sub_Df = df[df['class'] == iris_names[1]]\n",
    "Iris_Vi_Sub_Df = df[df['class'] == iris_names[2]]"
   ]
  },
  {
   "cell_type": "markdown",
   "metadata": {},
   "source": [
    "### 3) 탐색적 자료 분석 (Exploratory data analysis)"
   ]
  },
  {
   "cell_type": "markdown",
   "metadata": {},
   "source": [
    "- Sepal length (a) and Sepal width (b)\n",
    "- Sepal length (a) and Petal length (c)\n",
    "- Sepal length (a) and Petal width (d)\n",
    "- Sepal width (b) and Petal length (c)\n",
    "- Sepal width (b) and Petal width (d)\n",
    "- Petal length (c) and Petal width (d)"
   ]
  },
  {
   "cell_type": "code",
   "execution_count": 145,
   "metadata": {
    "collapsed": false
   },
   "outputs": [
    {
     "data": {
      "image/png": "[encoded data removed]",
      "text/plain": [
       "<matplotlib.figure.Figure at 0x11af70450>"
      ]
     },
     "metadata": {},
     "output_type": "display_data"
    }
   ],
   "source": [
    "unit_str = ' (cm)'\n",
    "options = {\n",
    "    0: {\n",
    "        'data_x': feature_names[0],\n",
    "        'data_y': feature_names[1],\n",
    "        'label_x': feature_names[0] + unit_str,\n",
    "        'label_y': feature_names[1] + unit_str,\n",
    "        'ylim_min': 1.5,\n",
    "        'ylim_max': 5.0\n",
    "    },\n",
    "    1: {\n",
    "        'data_x': feature_names[0],\n",
    "        'data_y': feature_names[2],\n",
    "        'label_x': feature_names[0] + unit_str,\n",
    "        'label_y': feature_names[2] + unit_str,\n",
    "        'ylim_min': 0.0,\n",
    "        'ylim_max': 9.0\n",
    "    },\n",
    "    2: {\n",
    "        'data_x': feature_names[0],\n",
    "        'data_y': feature_names[3],\n",
    "        'label_x': feature_names[0] + unit_str,\n",
    "        'label_y': feature_names[3] + unit_str,\n",
    "        'ylim_min': -0.5,\n",
    "        'ylim_max': 3.5\n",
    "    },\n",
    "    3: {\n",
    "        'data_x': feature_names[1],\n",
    "        'data_y': feature_names[2],\n",
    "        'label_x': feature_names[1] + unit_str,\n",
    "        'label_y': feature_names[2] + unit_str,\n",
    "        'ylim_min': 0.0,\n",
    "        'ylim_max': 9.0\n",
    "    },\n",
    "    4: {\n",
    "        'data_x': feature_names[1],\n",
    "        'data_y': feature_names[3],\n",
    "        'label_x': feature_names[1] + unit_str,\n",
    "        'label_y': feature_names[3] + unit_str,\n",
    "        'ylim_min': 0.0,\n",
    "        'ylim_max': 3.5\n",
    "    },\n",
    "    5: {\n",
    "        'data_x': feature_names[2],\n",
    "        'data_y': feature_names[3],\n",
    "        'label_x': feature_names[2] + unit_str,\n",
    "        'label_y': feature_names[3] + unit_str,\n",
    "        'ylim_min': 0.0,\n",
    "        'ylim_max': 3.5\n",
    "    }\n",
    "}\n",
    "ax = []\n",
    "fig = plt.figure(figsize=(17, 12))\n",
    "for i in range(0,6):\n",
    "    ax.append(fig.add_subplot(230 + (i+1)))\n",
    "\n",
    "for i in range(0,6):\n",
    "    se = ax[i].scatter(Iris_Se_Sub_Df[options[i]['data_x']], Iris_Se_Sub_Df[options[i]['data_y']], color='red')\n",
    "    ve = ax[i].scatter(Iris_Ve_Sub_Df[options[i]['data_x']], Iris_Ve_Sub_Df[options[i]['data_y']], color='blue')\n",
    "    vi = ax[i].scatter(Iris_Vi_Sub_Df[options[i]['data_x']], Iris_Vi_Sub_Df[options[i]['data_y']], color='green')\n",
    "    ax[i].set_xlabel(options[i]['label_x'])\n",
    "    ax[i].set_ylabel(options[i]['label_y'])\n",
    "    ax[i].set_ylim([options[i]['ylim_min'], options[i]['ylim_max']])\n",
    "    ax[i].legend((se, ve, vi), iris_names)"
   ]
  },
  {
   "cell_type": "code",
   "execution_count": 146,
   "metadata": {
    "collapsed": false
   },
   "outputs": [
    {
     "data": {
      "image/png": "[encoded data removed]",
      "text/plain": [
       "<matplotlib.figure.Figure at 0x119d46590>"
      ]
     },
     "metadata": {},
     "output_type": "display_data"
    }
   ],
   "source": [
    "stats = {}\n",
    "for i in range(0,4):\n",
    "    stats[i] = {}\n",
    "    stats[i]['mean'] = (Iris_Se_Sub_Df[feature_names[i]].mean(), \n",
    "                        Iris_Ve_Sub_Df[feature_names[i]].mean(), \n",
    "                        Iris_Vi_Sub_Df[feature_names[i]].mean())\n",
    "    stats[i]['std'] = (Iris_Se_Sub_Df[feature_names[i]].std(), \n",
    "                       Iris_Ve_Sub_Df[feature_names[i]].std(), \n",
    "                       Iris_Vi_Sub_Df[feature_names[i]].std())\n",
    "    \n",
    "ind = Series([0.5, 1.5, 2.5])\n",
    "width = 0.5\n",
    "fig = plt.figure(figsize=(20, 5))\n",
    "ay = []\n",
    "for i in range(0,4):\n",
    "    ay.append(fig.add_subplot(140 + (i+1)))\n",
    "    \n",
    "for i in range(0,4):\n",
    "    ay[i].bar(ind, stats[i]['mean'], 0.5, color='magenta', yerr=stats[i]['std'])\n",
    "    ay[i].set_xlim([0, 3.5])\n",
    "    ay[i].set_ylabel('Mean of ' + names[i])\n",
    "    ay[i].set_xticks(ind + width/2)\n",
    "    ay[i].set_xticklabels(iris_names)"
   ]
  },
  {
   "cell_type": "markdown",
   "metadata": {},
   "source": [
    "### 4) 학습 데이터와 검증 데이터 분리하기"
   ]
  },
  {
   "cell_type": "code",
   "execution_count": 224,
   "metadata": {
    "collapsed": false
   },
   "outputs": [
    {
     "name": "stdout",
     "output_type": "stream",
     "text": [
      "Train: 98\n",
      "Test: 51\n",
      "\n",
      "[sepal length            4.9\n",
      "sepal width               3\n",
      "petal length            1.4\n",
      "petal width             0.2\n",
      "class           Iris-setosa\n",
      "Name: 1, dtype: object, sepal length            4.7\n",
      "sepal width             3.2\n",
      "petal length            1.3\n",
      "petal width             0.2\n",
      "class           Iris-setosa\n",
      "Name: 2, dtype: object, sepal length            4.6\n",
      "sepal width             3.1\n",
      "petal length            1.5\n",
      "petal width             0.2\n",
      "class           Iris-setosa\n",
      "Name: 3, dtype: object]\n",
      "\n",
      "[sepal length            5.1\n",
      "sepal width             3.5\n",
      "petal length            1.4\n",
      "petal width             0.2\n",
      "class           Iris-setosa\n",
      "Name: 0, dtype: object, sepal length            4.6\n",
      "sepal width             3.4\n",
      "petal length            1.4\n",
      "petal width             0.3\n",
      "class           Iris-setosa\n",
      "Name: 6, dtype: object, sepal length            4.9\n",
      "sepal width             3.1\n",
      "petal length            1.5\n",
      "petal width             0.1\n",
      "class           Iris-setosa\n",
      "Name: 9, dtype: object]\n"
     ]
    }
   ],
   "source": [
    "import random\n",
    "\n",
    "def splitDataset(split, training_set=[] , test_set=[]):\n",
    "    for i in range(len(df)-1):\n",
    "        if random.random() < split:\n",
    "            training_set.append(df.ix[i])\n",
    "        else:\n",
    "            test_set.append(df.ix[i])\n",
    "    return training_set, test_set        \n",
    "\n",
    "split = 0.66\n",
    "training_set, test_set = splitDataset(split)\n",
    "print 'Train: ' + str(len(training_set))\n",
    "print 'Test: ' + str(len(test_set))\n",
    "print\n",
    "print training_set[0:3]\n",
    "print\n",
    "print test_set[0:3]"
   ]
  },
  {
   "cell_type": "markdown",
   "metadata": {},
   "source": [
    "## 2. 유사도 (Similarity) 정의"
   ]
  },
  {
   "cell_type": "markdown",
   "metadata": {},
   "source": [
    "- 유사도 정의\n",
    "  - Euclidean Distance (https://en.wikipedia.org/wiki/Euclidean_distance)"
   ]
  },
  {
   "cell_type": "code",
   "execution_count": 225,
   "metadata": {
    "collapsed": false
   },
   "outputs": [
    {
     "name": "stdout",
     "output_type": "stream",
     "text": [
      "   sepal length  sepal width  petal length  petal width\n",
      "0           5.1          3.5           1.4          0.2\n",
      "1           4.9          3.0           1.4          0.2\n",
      "2           4.7          3.2           1.3          0.2\n",
      "3           4.6          3.1           1.5          0.2\n",
      "4           5.0          3.6           1.4          0.2\n",
      "\n",
      "Distance: 0.5385164807134502\n"
     ]
    }
   ],
   "source": [
    "num_feature = len(feature_names)\n",
    "\n",
    "import math\n",
    "def euclideanDistance(instance1, instance2):\n",
    "    distance = 0\n",
    "    for x in range(num_feature):\n",
    "        distance += pow((instance1[x] - instance2[x]), 2)\n",
    "    return math.sqrt(distance)\n",
    "\n",
    "df_feature = df.drop('class', axis=1)\n",
    "print df_feature.head()\n",
    "print \n",
    "\n",
    "distance = euclideanDistance(df_feature.ix[0], df_feature.ix[1])\n",
    "print 'Distance: ' + repr(distance)"
   ]
  },
  {
   "cell_type": "markdown",
   "metadata": {},
   "source": [
    "## 3. 이웃 (Neighbors) 찾기 "
   ]
  },
  {
   "cell_type": "markdown",
   "metadata": {},
   "source": [
    "- 테스트 집합내 임의의 인스턴스(test_instance)에 대하여 훈련 데이터 집합(training_set)내에서 유사도가 높은 k개의 인스턴스 찾기"
   ]
  },
  {
   "cell_type": "code",
   "execution_count": 226,
   "metadata": {
    "collapsed": false
   },
   "outputs": [
    {
     "name": "stdout",
     "output_type": "stream",
     "text": [
      "sepal length            5.1\n",
      "sepal width             3.5\n",
      "petal length            1.4\n",
      "petal width             0.2\n",
      "class           Iris-setosa\n",
      "Name: 0, dtype: object\n",
      "\n",
      "[sepal length              5\n",
      "sepal width             3.4\n",
      "petal length            1.5\n",
      "petal width             0.2\n",
      "class           Iris-setosa\n",
      "Name: 7, dtype: object]\n",
      "\n",
      "[sepal length              5\n",
      "sepal width             3.4\n",
      "petal length            1.5\n",
      "petal width             0.2\n",
      "class           Iris-setosa\n",
      "Name: 7, dtype: object, sepal length            5.2\n",
      "sepal width             3.5\n",
      "petal length            1.5\n",
      "petal width             0.2\n",
      "class           Iris-setosa\n",
      "Name: 27, dtype: object, sepal length              5\n",
      "sepal width             3.5\n",
      "petal length            1.3\n",
      "petal width             0.3\n",
      "class           Iris-setosa\n",
      "Name: 40, dtype: object]\n",
      "\n"
     ]
    }
   ],
   "source": [
    "import operator \n",
    "def getNeighbors(training_set, test_instance, k):\n",
    "    distances = []\n",
    "    for i in range(len(trainingSet)):\n",
    "        dist = euclideanDistance(training_set[i], test_instance)\n",
    "        distances.append((trainingSet[i], dist))\n",
    "    distances.sort(key=operator.itemgetter(1))\n",
    "    neighbors = []\n",
    "    for i in range(k):\n",
    "        neighbors.append(distances[i][0])\n",
    "    return neighbors\n",
    "\n",
    "print test_set[0]\n",
    "print\n",
    "\n",
    "k = 1\n",
    "neighbors = getNeighbors(training_set, test_set[0], k)\n",
    "print(neighbors)\n",
    "print\n",
    "\n",
    "k = 3\n",
    "neighbors = getNeighbors(training_set, test_set[0], k)\n",
    "print(neighbors)\n",
    "print"
   ]
  },
  {
   "cell_type": "markdown",
   "metadata": {},
   "source": [
    "## 4. 분류하기 (Classify)"
   ]
  },
  {
   "cell_type": "markdown",
   "metadata": {},
   "source": [
    "- 테스트 집합내 임의의 인스턴스(test_instance)에 대하여 훈련 데이터 집합(training_set)내에서...\n",
    "- 유사도가 높은 k개의 인스턴스의 분류 중 가장 빈도수가 높은 분류를 해당 인스턴스(test_instance)의 분류로 정하기"
   ]
  },
  {
   "cell_type": "code",
   "execution_count": 227,
   "metadata": {
    "collapsed": false
   },
   "outputs": [
    {
     "name": "stdout",
     "output_type": "stream",
     "text": [
      "Classified: Iris-setosa - Actual: Iris-setosa\n"
     ]
    }
   ],
   "source": [
    "def classify(neighbors):\n",
    "    class_frequency = {}\n",
    "    for i in range(len(neighbors)):\n",
    "        class_name = neighbors[i][-1]\n",
    "        if class_name in class_frequency:\n",
    "            class_frequency[class_name] += 1\n",
    "        else:\n",
    "            class_frequency[class_name] = 1\n",
    "    sorted_class_frequency = sorted(class_frequency.iteritems(), key=operator.itemgetter(1), reverse=True)\n",
    "    return sorted_class_frequency[0][0]\n",
    "\n",
    "k = 3\n",
    "neighbors = getNeighbors(training_set, test_set[0], k)\n",
    "\n",
    "classified_class_name = getResponse(neighbors)\n",
    "print \"Classified:\", classified_class_name, \"- Actual:\", test_set[0]['class']"
   ]
  },
  {
   "cell_type": "markdown",
   "metadata": {},
   "source": [
    "## 5. 전체 테스트 집합에 대해 분류 및 정확도 (Accuracy) 평가"
   ]
  },
  {
   "cell_type": "code",
   "execution_count": 228,
   "metadata": {
    "collapsed": false
   },
   "outputs": [
    {
     "name": "stdout",
     "output_type": "stream",
     "text": [
      "Classified:Iris-setosa, Actual:Iris-setosa\n",
      "Classified:Iris-setosa, Actual:Iris-setosa\n",
      "Classified:Iris-setosa, Actual:Iris-setosa\n",
      "Classified:Iris-setosa, Actual:Iris-setosa\n",
      "Classified:Iris-setosa, Actual:Iris-setosa\n",
      "Classified:Iris-setosa, Actual:Iris-setosa\n",
      "Classified:Iris-setosa, Actual:Iris-setosa\n",
      "Classified:Iris-setosa, Actual:Iris-setosa\n",
      "Classified:Iris-setosa, Actual:Iris-setosa\n",
      "Classified:Iris-setosa, Actual:Iris-setosa\n",
      "Classified:Iris-setosa, Actual:Iris-setosa\n",
      "Classified:Iris-setosa, Actual:Iris-setosa\n",
      "Classified:Iris-setosa, Actual:Iris-setosa\n",
      "Classified:Iris-setosa, Actual:Iris-setosa\n",
      "Classified:Iris-setosa, Actual:Iris-setosa\n",
      "Classified:Iris-setosa, Actual:Iris-setosa\n",
      "Classified:Iris-versicolor, Actual:Iris-versicolor\n",
      "Classified:Iris-virginica, Actual:Iris-versicolor\n",
      "Classified:Iris-versicolor, Actual:Iris-versicolor\n",
      "Classified:Iris-versicolor, Actual:Iris-versicolor\n",
      "Classified:Iris-virginica, Actual:Iris-versicolor\n",
      "Classified:Iris-versicolor, Actual:Iris-versicolor\n",
      "Classified:Iris-versicolor, Actual:Iris-versicolor\n",
      "Classified:Iris-versicolor, Actual:Iris-versicolor\n",
      "Classified:Iris-virginica, Actual:Iris-versicolor\n",
      "Classified:Iris-versicolor, Actual:Iris-versicolor\n",
      "Classified:Iris-versicolor, Actual:Iris-versicolor\n",
      "Classified:Iris-virginica, Actual:Iris-versicolor\n",
      "Classified:Iris-versicolor, Actual:Iris-versicolor\n",
      "Classified:Iris-versicolor, Actual:Iris-versicolor\n",
      "Classified:Iris-versicolor, Actual:Iris-versicolor\n",
      "Classified:Iris-versicolor, Actual:Iris-versicolor\n",
      "Classified:Iris-versicolor, Actual:Iris-versicolor\n",
      "Classified:Iris-versicolor, Actual:Iris-versicolor\n",
      "Classified:Iris-virginica, Actual:Iris-virginica\n",
      "Classified:Iris-virginica, Actual:Iris-virginica\n",
      "Classified:Iris-virginica, Actual:Iris-virginica\n",
      "Classified:Iris-virginica, Actual:Iris-virginica\n",
      "Classified:Iris-virginica, Actual:Iris-virginica\n",
      "Classified:Iris-virginica, Actual:Iris-virginica\n",
      "Classified:Iris-virginica, Actual:Iris-virginica\n",
      "Classified:Iris-virginica, Actual:Iris-virginica\n",
      "Classified:Iris-virginica, Actual:Iris-virginica\n",
      "Classified:Iris-virginica, Actual:Iris-virginica\n",
      "Classified:Iris-virginica, Actual:Iris-virginica\n",
      "Classified:Iris-virginica, Actual:Iris-virginica\n",
      "Classified:Iris-virginica, Actual:Iris-virginica\n",
      "Classified:Iris-virginica, Actual:Iris-virginica\n",
      "Classified:Iris-virginica, Actual:Iris-virginica\n",
      "Classified:Iris-virginica, Actual:Iris-virginica\n",
      "Classified:Iris-virginica, Actual:Iris-virginica\n",
      "\n",
      "Accuracy: 92.1568627451%\n"
     ]
    }
   ],
   "source": [
    "k = 3\n",
    "classified_class_names=[]\n",
    "for i in range(len(test_set)):\n",
    "    neighbors = getNeighbors(training_set, test_set[i], k)\n",
    "    result = classify(neighbors)\n",
    "    classified_class_names.append(result)\n",
    "    print('Classified:' + result + ', Actual:' + test_set[i][-1])\n",
    "\n",
    "correct = 0.0\n",
    "for i in range(len(test_set)):\n",
    "    if test_set[i][-1] == classified_class_names[i]:\n",
    "        correct += 1.0\n",
    "\n",
    "print\n",
    "print('Accuracy: ' + str(correct / float(len(test_set)) * 100.0) + '%')"
   ]
  },
  {
   "cell_type": "markdown",
   "metadata": {},
   "source": [
    "## 6. kNN 분류 전체 코드"
   ]
  },
  {
   "cell_type": "markdown",
   "metadata": {},
   "source": [
    "- 중간 과정의 테스트 코드 삭제\n",
    "- 보다 정확한 정확도 측정을 위하여 10번의 테스트 후 평균 정확도 산출 "
   ]
  },
  {
   "cell_type": "code",
   "execution_count": 233,
   "metadata": {
    "collapsed": false
   },
   "outputs": [
    {
     "name": "stdout",
     "output_type": "stream",
     "text": [
      "Mean Accuracy: 97.0141965145%\n"
     ]
    }
   ],
   "source": [
    "import urllib2\n",
    "import json\n",
    "from scipy import stats\n",
    "from pandas import Series, DataFrame\n",
    "import pandas as pd\n",
    "import matplotlib.pyplot as plt\n",
    "import numpy as np\n",
    "import random\n",
    "import math\n",
    "import operator\n",
    "\n",
    "def splitDataset(split, training_set=[] , test_set=[]):\n",
    "    for i in range(len(df)-1):\n",
    "        if random.random() < split:\n",
    "            training_set.append(df.ix[i])\n",
    "        else:\n",
    "            test_set.append(df.ix[i])\n",
    "    return training_set, test_set        \n",
    "\n",
    "def euclideanDistance(instance1, instance2):\n",
    "    distance = 0\n",
    "    for x in range(num_feature):\n",
    "        distance += pow((instance1[x] - instance2[x]), 2)\n",
    "    return math.sqrt(distance)\n",
    "\n",
    "def getNeighbors(training_set, test_instance, k):\n",
    "    distances = []\n",
    "    for i in range(len(trainingSet)):\n",
    "        dist = euclideanDistance(training_set[i], test_instance)\n",
    "        distances.append((trainingSet[i], dist))\n",
    "    distances.sort(key=operator.itemgetter(1))\n",
    "    neighbors = []\n",
    "    for i in range(k):\n",
    "        neighbors.append(distances[i][0])\n",
    "    return neighbors\n",
    "\n",
    "def classify(neighbors):\n",
    "    class_frequency = {}\n",
    "    for i in range(len(neighbors)):\n",
    "        class_name = neighbors[i][-1]\n",
    "        if class_name in class_frequency:\n",
    "            class_frequency[class_name] += 1\n",
    "        else:\n",
    "            class_frequency[class_name] = 1\n",
    "    sorted_class_frequency = sorted(class_frequency.iteritems(), key=operator.itemgetter(1), reverse=True)\n",
    "    return sorted_class_frequency[0][0]\n",
    "\n",
    "if __name__ == '__main__':\n",
    "    path = 'https://archive.ics.uci.edu/ml/machine-learning-databases/iris/iris.data'\n",
    "    raw_csv = urllib2.urlopen(path)\n",
    "    feature_names = ('sepal length', 'sepal width', 'petal length', 'petal width')\n",
    "    all_names = feature_names + ('class',)\n",
    "    df = pd.read_csv(raw_csv, names=all_names)\n",
    "    df_feature = df.drop('class', axis=1)\n",
    "    num_feature = len(feature_names)\n",
    "    split = 0.66\n",
    "    k = 3\n",
    "    num_trials = 10\n",
    "    accuracy_sum = 0.0\n",
    "\n",
    "    for i in range(num_trials):\n",
    "        training_set, test_set = splitDataset(split)\n",
    "        classified_class_names=[]\n",
    "        for i in range(len(test_set)):\n",
    "            neighbors = getNeighbors(training_set, test_set[i], k)\n",
    "            result = classify(neighbors)\n",
    "            classified_class_names.append(result)\n",
    "\n",
    "        correct = 0.0\n",
    "        for i in range(len(test_set)):\n",
    "            if test_set[i][-1] == classified_class_names[i]:\n",
    "                correct += 1.0\n",
    "\n",
    "        accuracy_sum += (correct / float(len(test_set))) * 100.0\n",
    "\n",
    "    print('Mean Accuracy: ' + str(accuracy_sum / float(num_trials)) + '%')"
   ]
  },
  {
   "cell_type": "markdown",
   "metadata": {},
   "source": [
    "## 7. Refererence"
   ]
  },
  {
   "cell_type": "markdown",
   "metadata": {},
   "source": [
    "- http://machinelearningmastery.com/tutorial-to-implement-k-nearest-neighbors-in-python-from-scratch/"
   ]
  }
 ],
 "metadata": {
  "kernelspec": {
   "display_name": "Python 2",
   "language": "python",
   "name": "python2"
  },
  "language_info": {
   "codemirror_mode": {
    "name": "ipython",
    "version": 2
   },
   "file_extension": ".py",
   "mimetype": "text/x-python",
   "name": "python",
   "nbconvert_exporter": "python",
   "pygments_lexer": "ipython2",
   "version": "2.7.6"
  }
 },
 "nbformat": 4,
 "nbformat_minor": 0
}
